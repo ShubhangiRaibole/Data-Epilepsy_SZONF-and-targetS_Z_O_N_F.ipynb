{
  "nbformat": 4,
  "nbformat_minor": 0,
  "metadata": {
    "colab": {
      "name": "S_O.ipynb",
      "provenance": []
    },
    "kernelspec": {
      "name": "python3",
      "display_name": "Python 3"
    },
    "language_info": {
      "name": "python"
    }
  },
  "cells": [
    {
      "cell_type": "code",
      "metadata": {
        "id": "ZS3nDss7BuBa"
      },
      "source": [
        "import pandas as pd\n",
        "import numpy as np \n",
        "\n",
        "#for data visualization\n",
        "import seaborn as sns\n",
        "import matplotlib.pyplot as plt\n",
        "%matplotlib inline\n",
        "\n",
        "#for evaluation\n",
        "from sklearn.metrics import mean_absolute_error, r2_score, classification_report,confusion_matrix , accuracy_score, f1_score\n",
        "import warnings\n",
        "warnings.filterwarnings('ignore')"
      ],
      "execution_count": 1,
      "outputs": []
    },
    {
      "cell_type": "code",
      "metadata": {
        "colab": {
          "base_uri": "https://localhost:8080/",
          "height": 263
        },
        "id": "Mt-JWDmqIt90",
        "outputId": "4c944729-229b-4bc2-932a-3a5ca408a889"
      },
      "source": [
        "df = pd.read_excel('/content/data_epilepsy.xlsx',sheet_name='S-N')\n",
        "df.head()"
      ],
      "execution_count": 251,
      "outputs": [
        {
          "output_type": "execute_result",
          "data": {
            "text/html": [
              "<div>\n",
              "<style scoped>\n",
              "    .dataframe tbody tr th:only-of-type {\n",
              "        vertical-align: middle;\n",
              "    }\n",
              "\n",
              "    .dataframe tbody tr th {\n",
              "        vertical-align: top;\n",
              "    }\n",
              "\n",
              "    .dataframe thead th {\n",
              "        text-align: right;\n",
              "    }\n",
              "</style>\n",
              "<table border=\"1\" class=\"dataframe\">\n",
              "  <thead>\n",
              "    <tr style=\"text-align: right;\">\n",
              "      <th></th>\n",
              "      <th>Unnamed: 0</th>\n",
              "      <th>Unnamed: 1</th>\n",
              "      <th>Unnamed: 2</th>\n",
              "      <th>Unnamed: 3</th>\n",
              "      <th>Unnamed: 4</th>\n",
              "      <th>Unnamed: 5</th>\n",
              "      <th>Unnamed: 6</th>\n",
              "      <th>Unnamed: 7</th>\n",
              "      <th>Unnamed: 8</th>\n",
              "      <th>Unnamed: 9</th>\n",
              "      <th>Unnamed: 10</th>\n",
              "      <th>Unnamed: 11</th>\n",
              "      <th>Unnamed: 12</th>\n",
              "      <th>Unnamed: 13</th>\n",
              "      <th>Unnamed: 14</th>\n",
              "      <th>Unnamed: 15</th>\n",
              "      <th>Unnamed: 16</th>\n",
              "      <th>Unnamed: 17</th>\n",
              "      <th>Unnamed: 18</th>\n",
              "      <th>Unnamed: 19</th>\n",
              "      <th>Unnamed: 20</th>\n",
              "      <th>Unnamed: 21</th>\n",
              "      <th>Unnamed: 22</th>\n",
              "      <th>Unnamed: 23</th>\n",
              "      <th>Unnamed: 24</th>\n",
              "      <th>Unnamed: 25</th>\n",
              "      <th>Unnamed: 26</th>\n",
              "      <th>Unnamed: 27</th>\n",
              "      <th>Unnamed: 28</th>\n",
              "      <th>Unnamed: 29</th>\n",
              "      <th>Unnamed: 30</th>\n",
              "      <th>Unnamed: 31</th>\n",
              "      <th>Unnamed: 32</th>\n",
              "      <th>Unnamed: 33</th>\n",
              "      <th>Unnamed: 34</th>\n",
              "      <th>Unnamed: 35</th>\n",
              "      <th>Unnamed: 36</th>\n",
              "      <th>Unnamed: 37</th>\n",
              "      <th>Unnamed: 38</th>\n",
              "      <th>Unnamed: 39</th>\n",
              "      <th>...</th>\n",
              "      <th>Unnamed: 4057</th>\n",
              "      <th>Unnamed: 4058</th>\n",
              "      <th>Unnamed: 4059</th>\n",
              "      <th>Unnamed: 4060</th>\n",
              "      <th>Unnamed: 4061</th>\n",
              "      <th>Unnamed: 4062</th>\n",
              "      <th>Unnamed: 4063</th>\n",
              "      <th>Unnamed: 4064</th>\n",
              "      <th>Unnamed: 4065</th>\n",
              "      <th>Unnamed: 4066</th>\n",
              "      <th>Unnamed: 4067</th>\n",
              "      <th>Unnamed: 4068</th>\n",
              "      <th>Unnamed: 4069</th>\n",
              "      <th>Unnamed: 4070</th>\n",
              "      <th>Unnamed: 4071</th>\n",
              "      <th>Unnamed: 4072</th>\n",
              "      <th>Unnamed: 4073</th>\n",
              "      <th>Unnamed: 4074</th>\n",
              "      <th>Unnamed: 4075</th>\n",
              "      <th>Unnamed: 4076</th>\n",
              "      <th>Unnamed: 4077</th>\n",
              "      <th>Unnamed: 4078</th>\n",
              "      <th>Unnamed: 4079</th>\n",
              "      <th>Unnamed: 4080</th>\n",
              "      <th>Unnamed: 4081</th>\n",
              "      <th>Unnamed: 4082</th>\n",
              "      <th>Unnamed: 4083</th>\n",
              "      <th>Unnamed: 4084</th>\n",
              "      <th>Unnamed: 4085</th>\n",
              "      <th>Unnamed: 4086</th>\n",
              "      <th>Unnamed: 4087</th>\n",
              "      <th>Unnamed: 4088</th>\n",
              "      <th>Unnamed: 4089</th>\n",
              "      <th>Unnamed: 4090</th>\n",
              "      <th>Unnamed: 4091</th>\n",
              "      <th>Unnamed: 4092</th>\n",
              "      <th>Unnamed: 4093</th>\n",
              "      <th>Unnamed: 4094</th>\n",
              "      <th>Unnamed: 4095</th>\n",
              "      <th>Unnamed: 4096</th>\n",
              "    </tr>\n",
              "  </thead>\n",
              "  <tbody>\n",
              "    <tr>\n",
              "      <th>0</th>\n",
              "      <td>100</td>\n",
              "      <td>124</td>\n",
              "      <td>153</td>\n",
              "      <td>185</td>\n",
              "      <td>210</td>\n",
              "      <td>220</td>\n",
              "      <td>216</td>\n",
              "      <td>222</td>\n",
              "      <td>240</td>\n",
              "      <td>265</td>\n",
              "      <td>298</td>\n",
              "      <td>330</td>\n",
              "      <td>362</td>\n",
              "      <td>381</td>\n",
              "      <td>391</td>\n",
              "      <td>390</td>\n",
              "      <td>390</td>\n",
              "      <td>392</td>\n",
              "      <td>395</td>\n",
              "      <td>397</td>\n",
              "      <td>397</td>\n",
              "      <td>393</td>\n",
              "      <td>380</td>\n",
              "      <td>356</td>\n",
              "      <td>334</td>\n",
              "      <td>322</td>\n",
              "      <td>320</td>\n",
              "      <td>322</td>\n",
              "      <td>338</td>\n",
              "      <td>332</td>\n",
              "      <td>317</td>\n",
              "      <td>263</td>\n",
              "      <td>195</td>\n",
              "      <td>142</td>\n",
              "      <td>108</td>\n",
              "      <td>97</td>\n",
              "      <td>80</td>\n",
              "      <td>80</td>\n",
              "      <td>85</td>\n",
              "      <td>39</td>\n",
              "      <td>...</td>\n",
              "      <td>516</td>\n",
              "      <td>592</td>\n",
              "      <td>650</td>\n",
              "      <td>667</td>\n",
              "      <td>637</td>\n",
              "      <td>574</td>\n",
              "      <td>505</td>\n",
              "      <td>450</td>\n",
              "      <td>413</td>\n",
              "      <td>399</td>\n",
              "      <td>414</td>\n",
              "      <td>448</td>\n",
              "      <td>486</td>\n",
              "      <td>449</td>\n",
              "      <td>291</td>\n",
              "      <td>-46</td>\n",
              "      <td>-457</td>\n",
              "      <td>-878</td>\n",
              "      <td>-1178</td>\n",
              "      <td>-1324</td>\n",
              "      <td>-1310</td>\n",
              "      <td>-1105</td>\n",
              "      <td>-770</td>\n",
              "      <td>-345</td>\n",
              "      <td>42</td>\n",
              "      <td>315</td>\n",
              "      <td>465</td>\n",
              "      <td>513</td>\n",
              "      <td>478</td>\n",
              "      <td>378</td>\n",
              "      <td>250</td>\n",
              "      <td>137</td>\n",
              "      <td>57</td>\n",
              "      <td>17</td>\n",
              "      <td>0</td>\n",
              "      <td>7</td>\n",
              "      <td>26</td>\n",
              "      <td>57</td>\n",
              "      <td>95</td>\n",
              "      <td>462</td>\n",
              "    </tr>\n",
              "    <tr>\n",
              "      <th>1</th>\n",
              "      <td>340</td>\n",
              "      <td>353</td>\n",
              "      <td>400</td>\n",
              "      <td>470</td>\n",
              "      <td>538</td>\n",
              "      <td>590</td>\n",
              "      <td>611</td>\n",
              "      <td>629</td>\n",
              "      <td>649</td>\n",
              "      <td>693</td>\n",
              "      <td>759</td>\n",
              "      <td>837</td>\n",
              "      <td>812</td>\n",
              "      <td>684</td>\n",
              "      <td>389</td>\n",
              "      <td>-231</td>\n",
              "      <td>-1250</td>\n",
              "      <td>-1768</td>\n",
              "      <td>-1816</td>\n",
              "      <td>-1637</td>\n",
              "      <td>-984</td>\n",
              "      <td>-476</td>\n",
              "      <td>-224</td>\n",
              "      <td>-14</td>\n",
              "      <td>165</td>\n",
              "      <td>314</td>\n",
              "      <td>408</td>\n",
              "      <td>454</td>\n",
              "      <td>467</td>\n",
              "      <td>437</td>\n",
              "      <td>412</td>\n",
              "      <td>379</td>\n",
              "      <td>376</td>\n",
              "      <td>339</td>\n",
              "      <td>302</td>\n",
              "      <td>248</td>\n",
              "      <td>200</td>\n",
              "      <td>174</td>\n",
              "      <td>144</td>\n",
              "      <td>152</td>\n",
              "      <td>...</td>\n",
              "      <td>304</td>\n",
              "      <td>254</td>\n",
              "      <td>82</td>\n",
              "      <td>-174</td>\n",
              "      <td>-467</td>\n",
              "      <td>-537</td>\n",
              "      <td>-450</td>\n",
              "      <td>-178</td>\n",
              "      <td>64</td>\n",
              "      <td>274</td>\n",
              "      <td>464</td>\n",
              "      <td>496</td>\n",
              "      <td>571</td>\n",
              "      <td>467</td>\n",
              "      <td>299</td>\n",
              "      <td>130</td>\n",
              "      <td>28</td>\n",
              "      <td>82</td>\n",
              "      <td>270</td>\n",
              "      <td>597</td>\n",
              "      <td>886</td>\n",
              "      <td>1071</td>\n",
              "      <td>1166</td>\n",
              "      <td>1146</td>\n",
              "      <td>1000</td>\n",
              "      <td>773</td>\n",
              "      <td>423</td>\n",
              "      <td>118</td>\n",
              "      <td>-75</td>\n",
              "      <td>-18</td>\n",
              "      <td>205</td>\n",
              "      <td>556</td>\n",
              "      <td>824</td>\n",
              "      <td>919</td>\n",
              "      <td>916</td>\n",
              "      <td>829</td>\n",
              "      <td>722</td>\n",
              "      <td>512</td>\n",
              "      <td>130</td>\n",
              "      <td>196</td>\n",
              "    </tr>\n",
              "    <tr>\n",
              "      <th>2</th>\n",
              "      <td>-310</td>\n",
              "      <td>93</td>\n",
              "      <td>494</td>\n",
              "      <td>789</td>\n",
              "      <td>798</td>\n",
              "      <td>552</td>\n",
              "      <td>202</td>\n",
              "      <td>-95</td>\n",
              "      <td>-262</td>\n",
              "      <td>-327</td>\n",
              "      <td>-420</td>\n",
              "      <td>-483</td>\n",
              "      <td>-508</td>\n",
              "      <td>-502</td>\n",
              "      <td>-459</td>\n",
              "      <td>-376</td>\n",
              "      <td>-266</td>\n",
              "      <td>-113</td>\n",
              "      <td>18</td>\n",
              "      <td>98</td>\n",
              "      <td>135</td>\n",
              "      <td>154</td>\n",
              "      <td>163</td>\n",
              "      <td>174</td>\n",
              "      <td>186</td>\n",
              "      <td>196</td>\n",
              "      <td>208</td>\n",
              "      <td>216</td>\n",
              "      <td>218</td>\n",
              "      <td>208</td>\n",
              "      <td>200</td>\n",
              "      <td>197</td>\n",
              "      <td>197</td>\n",
              "      <td>201</td>\n",
              "      <td>211</td>\n",
              "      <td>224</td>\n",
              "      <td>239</td>\n",
              "      <td>246</td>\n",
              "      <td>252</td>\n",
              "      <td>261</td>\n",
              "      <td>...</td>\n",
              "      <td>-21</td>\n",
              "      <td>-12</td>\n",
              "      <td>29</td>\n",
              "      <td>75</td>\n",
              "      <td>111</td>\n",
              "      <td>145</td>\n",
              "      <td>168</td>\n",
              "      <td>169</td>\n",
              "      <td>150</td>\n",
              "      <td>113</td>\n",
              "      <td>106</td>\n",
              "      <td>137</td>\n",
              "      <td>204</td>\n",
              "      <td>291</td>\n",
              "      <td>388</td>\n",
              "      <td>477</td>\n",
              "      <td>546</td>\n",
              "      <td>574</td>\n",
              "      <td>546</td>\n",
              "      <td>467</td>\n",
              "      <td>360</td>\n",
              "      <td>255</td>\n",
              "      <td>164</td>\n",
              "      <td>123</td>\n",
              "      <td>126</td>\n",
              "      <td>184</td>\n",
              "      <td>312</td>\n",
              "      <td>410</td>\n",
              "      <td>470</td>\n",
              "      <td>496</td>\n",
              "      <td>437</td>\n",
              "      <td>345</td>\n",
              "      <td>108</td>\n",
              "      <td>-216</td>\n",
              "      <td>-525</td>\n",
              "      <td>-735</td>\n",
              "      <td>-847</td>\n",
              "      <td>-721</td>\n",
              "      <td>-491</td>\n",
              "      <td>910</td>\n",
              "    </tr>\n",
              "    <tr>\n",
              "      <th>3</th>\n",
              "      <td>84</td>\n",
              "      <td>75</td>\n",
              "      <td>21</td>\n",
              "      <td>-68</td>\n",
              "      <td>-138</td>\n",
              "      <td>-184</td>\n",
              "      <td>-197</td>\n",
              "      <td>-186</td>\n",
              "      <td>-155</td>\n",
              "      <td>-111</td>\n",
              "      <td>-58</td>\n",
              "      <td>-26</td>\n",
              "      <td>-18</td>\n",
              "      <td>-18</td>\n",
              "      <td>-40</td>\n",
              "      <td>-56</td>\n",
              "      <td>-35</td>\n",
              "      <td>35</td>\n",
              "      <td>149</td>\n",
              "      <td>253</td>\n",
              "      <td>298</td>\n",
              "      <td>282</td>\n",
              "      <td>232</td>\n",
              "      <td>161</td>\n",
              "      <td>96</td>\n",
              "      <td>71</td>\n",
              "      <td>64</td>\n",
              "      <td>70</td>\n",
              "      <td>35</td>\n",
              "      <td>-45</td>\n",
              "      <td>-116</td>\n",
              "      <td>-169</td>\n",
              "      <td>-192</td>\n",
              "      <td>-196</td>\n",
              "      <td>-173</td>\n",
              "      <td>-131</td>\n",
              "      <td>-82</td>\n",
              "      <td>-38</td>\n",
              "      <td>-8</td>\n",
              "      <td>-4</td>\n",
              "      <td>...</td>\n",
              "      <td>-91</td>\n",
              "      <td>-191</td>\n",
              "      <td>-246</td>\n",
              "      <td>-261</td>\n",
              "      <td>-248</td>\n",
              "      <td>-228</td>\n",
              "      <td>-197</td>\n",
              "      <td>-172</td>\n",
              "      <td>-150</td>\n",
              "      <td>-133</td>\n",
              "      <td>-123</td>\n",
              "      <td>-113</td>\n",
              "      <td>-109</td>\n",
              "      <td>-93</td>\n",
              "      <td>-71</td>\n",
              "      <td>-54</td>\n",
              "      <td>-42</td>\n",
              "      <td>-32</td>\n",
              "      <td>-17</td>\n",
              "      <td>29</td>\n",
              "      <td>110</td>\n",
              "      <td>200</td>\n",
              "      <td>271</td>\n",
              "      <td>285</td>\n",
              "      <td>236</td>\n",
              "      <td>142</td>\n",
              "      <td>50</td>\n",
              "      <td>-15</td>\n",
              "      <td>-61</td>\n",
              "      <td>-83</td>\n",
              "      <td>-119</td>\n",
              "      <td>-148</td>\n",
              "      <td>-171</td>\n",
              "      <td>-195</td>\n",
              "      <td>-218</td>\n",
              "      <td>-234</td>\n",
              "      <td>-238</td>\n",
              "      <td>-209</td>\n",
              "      <td>-165</td>\n",
              "      <td>-212</td>\n",
              "    </tr>\n",
              "    <tr>\n",
              "      <th>4</th>\n",
              "      <td>343</td>\n",
              "      <td>311</td>\n",
              "      <td>284</td>\n",
              "      <td>274</td>\n",
              "      <td>260</td>\n",
              "      <td>237</td>\n",
              "      <td>165</td>\n",
              "      <td>-33</td>\n",
              "      <td>-271</td>\n",
              "      <td>-425</td>\n",
              "      <td>-418</td>\n",
              "      <td>-254</td>\n",
              "      <td>-104</td>\n",
              "      <td>-14</td>\n",
              "      <td>16</td>\n",
              "      <td>24</td>\n",
              "      <td>23</td>\n",
              "      <td>11</td>\n",
              "      <td>4</td>\n",
              "      <td>20</td>\n",
              "      <td>40</td>\n",
              "      <td>67</td>\n",
              "      <td>99</td>\n",
              "      <td>127</td>\n",
              "      <td>130</td>\n",
              "      <td>126</td>\n",
              "      <td>133</td>\n",
              "      <td>124</td>\n",
              "      <td>108</td>\n",
              "      <td>54</td>\n",
              "      <td>-5</td>\n",
              "      <td>-45</td>\n",
              "      <td>-61</td>\n",
              "      <td>-65</td>\n",
              "      <td>-52</td>\n",
              "      <td>-46</td>\n",
              "      <td>-25</td>\n",
              "      <td>-15</td>\n",
              "      <td>-4</td>\n",
              "      <td>-12</td>\n",
              "      <td>...</td>\n",
              "      <td>2</td>\n",
              "      <td>-70</td>\n",
              "      <td>-118</td>\n",
              "      <td>-155</td>\n",
              "      <td>-201</td>\n",
              "      <td>-283</td>\n",
              "      <td>-368</td>\n",
              "      <td>-363</td>\n",
              "      <td>-333</td>\n",
              "      <td>-271</td>\n",
              "      <td>-203</td>\n",
              "      <td>-126</td>\n",
              "      <td>-31</td>\n",
              "      <td>48</td>\n",
              "      <td>86</td>\n",
              "      <td>102</td>\n",
              "      <td>124</td>\n",
              "      <td>125</td>\n",
              "      <td>132</td>\n",
              "      <td>144</td>\n",
              "      <td>187</td>\n",
              "      <td>263</td>\n",
              "      <td>343</td>\n",
              "      <td>411</td>\n",
              "      <td>433</td>\n",
              "      <td>417</td>\n",
              "      <td>397</td>\n",
              "      <td>395</td>\n",
              "      <td>414</td>\n",
              "      <td>435</td>\n",
              "      <td>439</td>\n",
              "      <td>428</td>\n",
              "      <td>423</td>\n",
              "      <td>430</td>\n",
              "      <td>472</td>\n",
              "      <td>515</td>\n",
              "      <td>527</td>\n",
              "      <td>480</td>\n",
              "      <td>397</td>\n",
              "      <td>217</td>\n",
              "    </tr>\n",
              "  </tbody>\n",
              "</table>\n",
              "<p>5 rows × 4097 columns</p>\n",
              "</div>"
            ],
            "text/plain": [
              "   Unnamed: 0  Unnamed: 1  ...  Unnamed: 4095  Unnamed: 4096\n",
              "0         100         124  ...             95            462\n",
              "1         340         353  ...            130            196\n",
              "2        -310          93  ...           -491            910\n",
              "3          84          75  ...           -165           -212\n",
              "4         343         311  ...            397            217\n",
              "\n",
              "[5 rows x 4097 columns]"
            ]
          },
          "metadata": {
            "tags": []
          },
          "execution_count": 251
        }
      ]
    },
    {
      "cell_type": "code",
      "metadata": {
        "id": "AX3O5YFsKKnS"
      },
      "source": [
        "target = pd.read_excel('/content/data_epilepsy.xlsx',sheet_name='target S-Z')"
      ],
      "execution_count": 3,
      "outputs": []
    },
    {
      "cell_type": "code",
      "metadata": {
        "id": "tTZmi7djLVdr"
      },
      "source": [
        "x=df.iloc[:,0:]\n",
        "y=target"
      ],
      "execution_count": 252,
      "outputs": []
    },
    {
      "cell_type": "code",
      "metadata": {
        "id": "gCEknDYcLeMb"
      },
      "source": [
        "from sklearn.model_selection import train_test_split\n",
        "x_Train, x_Test, y_Train, y_Test =train_test_split(x,y,test_size =0.30)"
      ],
      "execution_count": 253,
      "outputs": []
    },
    {
      "cell_type": "code",
      "metadata": {
        "colab": {
          "base_uri": "https://localhost:8080/"
        },
        "id": "6_WruNr4Lknf",
        "outputId": "6dc4a63b-89f0-4ad2-ed69-d214abde78aa"
      },
      "source": [
        "from sklearn.preprocessing import StandardScaler\n",
        "scaler = StandardScaler()\n",
        "scaler.fit(df)"
      ],
      "execution_count": 254,
      "outputs": [
        {
          "output_type": "execute_result",
          "data": {
            "text/plain": [
              "StandardScaler(copy=True, with_mean=True, with_std=True)"
            ]
          },
          "metadata": {
            "tags": []
          },
          "execution_count": 254
        }
      ]
    },
    {
      "cell_type": "code",
      "metadata": {
        "id": "cLyqOVTeLmbg"
      },
      "source": [
        "scaled_data = scaler.transform(df)"
      ],
      "execution_count": 255,
      "outputs": []
    },
    {
      "cell_type": "code",
      "metadata": {
        "id": "tMPQiKogLotA"
      },
      "source": [
        "from sklearn.decomposition import PCA"
      ],
      "execution_count": 256,
      "outputs": []
    },
    {
      "cell_type": "code",
      "metadata": {
        "id": "sYJxqeLsLqYD"
      },
      "source": [
        "pca = PCA(n_components=3)"
      ],
      "execution_count": 453,
      "outputs": []
    },
    {
      "cell_type": "code",
      "metadata": {
        "colab": {
          "base_uri": "https://localhost:8080/"
        },
        "id": "Y1pkENWVLr9r",
        "outputId": "89205dfa-55b9-434a-e782-c6a3ddb18739"
      },
      "source": [
        "pca.fit(scaled_data)"
      ],
      "execution_count": 454,
      "outputs": [
        {
          "output_type": "execute_result",
          "data": {
            "text/plain": [
              "PCA(copy=True, iterated_power='auto', n_components=3, random_state=None,\n",
              "    svd_solver='auto', tol=0.0, whiten=False)"
            ]
          },
          "metadata": {
            "tags": []
          },
          "execution_count": 454
        }
      ]
    },
    {
      "cell_type": "code",
      "metadata": {
        "id": "JJCMIw6SLt1P"
      },
      "source": [
        "x_pca = pca.transform(scaled_data)"
      ],
      "execution_count": 455,
      "outputs": []
    },
    {
      "cell_type": "code",
      "metadata": {
        "colab": {
          "base_uri": "https://localhost:8080/"
        },
        "id": "P7prZFsFLv1F",
        "outputId": "890c4697-4b25-4115-f54b-335ec1882ad4"
      },
      "source": [
        "scaled_data.shape"
      ],
      "execution_count": 456,
      "outputs": [
        {
          "output_type": "execute_result",
          "data": {
            "text/plain": [
              "(200, 4097)"
            ]
          },
          "metadata": {
            "tags": []
          },
          "execution_count": 456
        }
      ]
    },
    {
      "cell_type": "code",
      "metadata": {
        "colab": {
          "base_uri": "https://localhost:8080/"
        },
        "id": "GC9uWHTlLxbR",
        "outputId": "ec53486a-b44f-40cb-d843-ebf5f9135f0d"
      },
      "source": [
        "x_pca.shape"
      ],
      "execution_count": 457,
      "outputs": [
        {
          "output_type": "execute_result",
          "data": {
            "text/plain": [
              "(200, 3)"
            ]
          },
          "metadata": {
            "tags": []
          },
          "execution_count": 457
        }
      ]
    },
    {
      "cell_type": "code",
      "metadata": {
        "id": "UDsX3N-qdOob"
      },
      "source": [
        "from sklearn.model_selection import train_test_split\n",
        "x_Train_pca,x_Test_pca,y_Train,y_Test =train_test_split(x_pca,y,train_size =.8)"
      ],
      "execution_count": 458,
      "outputs": []
    },
    {
      "cell_type": "markdown",
      "metadata": {
        "id": "VREq06XJekGL"
      },
      "source": [
        "#DecisionTreeClassifier"
      ]
    },
    {
      "cell_type": "code",
      "metadata": {
        "id": "hm10QvQ3cINI"
      },
      "source": [
        "from sklearn.decomposition import PCA\n",
        "\n",
        "pca = PCA(n_components=3)\n",
        "X_train = pca.fit_transform(x_Train)\n",
        "X_test = pca.transform(x_Test)"
      ],
      "execution_count": 459,
      "outputs": []
    },
    {
      "cell_type": "code",
      "metadata": {
        "colab": {
          "base_uri": "https://localhost:8080/"
        },
        "id": "HNkXBBbBL_R4",
        "outputId": "474bf10e-c944-4611-b743-c365c8d7f43f"
      },
      "source": [
        "# Necessary imports\n",
        "from scipy.stats import randint\n",
        "from sklearn.tree import DecisionTreeClassifier\n",
        "from sklearn.model_selection import RandomizedSearchCV\n",
        "\n",
        "# Creating the hyperparameter grid \n",
        "param_dist = {\"max_depth\": [3, None],\n",
        "              \"max_features\": randint(1, 7),\n",
        "              \"min_samples_leaf\": randint(1, 7),\n",
        "              \"criterion\": [\"gini\", \"entropy\"]}\n",
        "\n",
        "# Instantiating Decision Tree classifier\n",
        "tree = DecisionTreeClassifier()\n",
        "\n",
        "\n",
        "# Instantiating RandomizedSearchCV object\n",
        "tree_cv = RandomizedSearchCV(tree, param_dist, cv = 5)\n",
        "\n",
        "tree_cv.fit(x_Train_pca, y_Train)\n",
        "  \n",
        "# Print the tuned parameters and score\n",
        "print(\"Tuned Decision Tree Parameters: {}\".format(tree_cv.best_params_))\n",
        "print(\"Best score is {}\".format(tree_cv.best_score_))"
      ],
      "execution_count": 460,
      "outputs": [
        {
          "output_type": "stream",
          "text": [
            "Tuned Decision Tree Parameters: {'criterion': 'gini', 'max_depth': None, 'max_features': 1, 'min_samples_leaf': 6}\n",
            "Best score is 0.8625\n"
          ],
          "name": "stdout"
        }
      ]
    },
    {
      "cell_type": "code",
      "metadata": {
        "id": "1OtQ8LyjMPcW",
        "colab": {
          "base_uri": "https://localhost:8080/"
        },
        "outputId": "e250bb93-5c21-4fbd-e3bb-9d792c9ee40b"
      },
      "source": [
        "y_pred = tree_cv.predict(x_Test_pca)\n",
        "y_pred"
      ],
      "execution_count": 461,
      "outputs": [
        {
          "output_type": "execute_result",
          "data": {
            "text/plain": [
              "array([1, 0, 1, 0, 1, 0, 0, 1, 0, 1, 1, 1, 0, 1, 1, 1, 1, 1, 0, 0, 1, 0,\n",
              "       1, 1, 1, 1, 1, 1, 0, 0, 1, 1, 1, 1, 1, 1, 1, 0, 0, 0])"
            ]
          },
          "metadata": {
            "tags": []
          },
          "execution_count": 461
        }
      ]
    },
    {
      "cell_type": "code",
      "metadata": {
        "colab": {
          "base_uri": "https://localhost:8080/"
        },
        "id": "zzi0qVBlb2MQ",
        "outputId": "73538f4f-5849-40c9-c94a-1241c60a281a"
      },
      "source": [
        "from sklearn.metrics import accuracy_score\n",
        "print(accuracy_score(y_Test,y_pred))"
      ],
      "execution_count": 462,
      "outputs": [
        {
          "output_type": "stream",
          "text": [
            "0.85\n"
          ],
          "name": "stdout"
        }
      ]
    },
    {
      "cell_type": "code",
      "metadata": {
        "colab": {
          "base_uri": "https://localhost:8080/"
        },
        "id": "Kiq4AGs1b4Jb",
        "outputId": "b0e1fa35-38f6-4326-fa62-20a78d598f96"
      },
      "source": [
        "dtc_acc = accuracy_score(y_Test,y_pred)\n",
        "print(dtc_acc)"
      ],
      "execution_count": 463,
      "outputs": [
        {
          "output_type": "stream",
          "text": [
            "0.85\n"
          ],
          "name": "stdout"
        }
      ]
    },
    {
      "cell_type": "code",
      "metadata": {
        "colab": {
          "base_uri": "https://localhost:8080/",
          "height": 31
        },
        "id": "pM-WzrlUb6dS",
        "outputId": "990b56f0-47fd-452d-896b-db1d9eafdbce"
      },
      "source": [
        "results = pd.DataFrame()\n",
        "results"
      ],
      "execution_count": 464,
      "outputs": [
        {
          "output_type": "execute_result",
          "data": {
            "text/html": [
              "<div>\n",
              "<style scoped>\n",
              "    .dataframe tbody tr th:only-of-type {\n",
              "        vertical-align: middle;\n",
              "    }\n",
              "\n",
              "    .dataframe tbody tr th {\n",
              "        vertical-align: top;\n",
              "    }\n",
              "\n",
              "    .dataframe thead th {\n",
              "        text-align: right;\n",
              "    }\n",
              "</style>\n",
              "<table border=\"1\" class=\"dataframe\">\n",
              "  <thead>\n",
              "    <tr style=\"text-align: right;\">\n",
              "      <th></th>\n",
              "    </tr>\n",
              "  </thead>\n",
              "  <tbody>\n",
              "  </tbody>\n",
              "</table>\n",
              "</div>"
            ],
            "text/plain": [
              "Empty DataFrame\n",
              "Columns: []\n",
              "Index: []"
            ]
          },
          "metadata": {
            "tags": []
          },
          "execution_count": 464
        }
      ]
    },
    {
      "cell_type": "code",
      "metadata": {
        "colab": {
          "base_uri": "https://localhost:8080/",
          "height": 77
        },
        "id": "rgQdGGhSb8Mq",
        "outputId": "995e4c9c-6dae-4a72-f87b-af8bafd55ac3"
      },
      "source": [
        "tempResults = pd.DataFrame({'Algorithm':['Decision tree Classifier Method'], 'Accuracy':[dtc_acc]})\n",
        "results = pd.concat( [results, tempResults] )\n",
        "results = results[['Algorithm','Accuracy']]\n",
        "results"
      ],
      "execution_count": 465,
      "outputs": [
        {
          "output_type": "execute_result",
          "data": {
            "text/html": [
              "<div>\n",
              "<style scoped>\n",
              "    .dataframe tbody tr th:only-of-type {\n",
              "        vertical-align: middle;\n",
              "    }\n",
              "\n",
              "    .dataframe tbody tr th {\n",
              "        vertical-align: top;\n",
              "    }\n",
              "\n",
              "    .dataframe thead th {\n",
              "        text-align: right;\n",
              "    }\n",
              "</style>\n",
              "<table border=\"1\" class=\"dataframe\">\n",
              "  <thead>\n",
              "    <tr style=\"text-align: right;\">\n",
              "      <th></th>\n",
              "      <th>Algorithm</th>\n",
              "      <th>Accuracy</th>\n",
              "    </tr>\n",
              "  </thead>\n",
              "  <tbody>\n",
              "    <tr>\n",
              "      <th>0</th>\n",
              "      <td>Decision tree Classifier Method</td>\n",
              "      <td>0.85</td>\n",
              "    </tr>\n",
              "  </tbody>\n",
              "</table>\n",
              "</div>"
            ],
            "text/plain": [
              "                         Algorithm  Accuracy\n",
              "0  Decision tree Classifier Method      0.85"
            ]
          },
          "metadata": {
            "tags": []
          },
          "execution_count": 465
        }
      ]
    },
    {
      "cell_type": "code",
      "metadata": {
        "id": "-DQUpIt5cvvW"
      },
      "source": [
        ""
      ],
      "execution_count": 465,
      "outputs": []
    },
    {
      "cell_type": "markdown",
      "metadata": {
        "id": "77M0remPOQ61"
      },
      "source": [
        "##RandomForest"
      ]
    },
    {
      "cell_type": "code",
      "metadata": {
        "colab": {
          "base_uri": "https://localhost:8080/"
        },
        "id": "ZtHtFWkPhUaR",
        "outputId": "4748e3df-0410-4139-8872-3bd8ee01449b"
      },
      "source": [
        " from sklearn.ensemble import RandomForestClassifier\n",
        " from sklearn.datasets import make_classification\n",
        "\n",
        "clf = RandomForestClassifier(max_depth=3, random_state=0)\n",
        "clf.fit(x_Train_pca, y_Train)\n",
        "RandomForestClassifier(...)\n"
      ],
      "execution_count": 466,
      "outputs": [
        {
          "output_type": "execute_result",
          "data": {
            "text/plain": [
              "RandomForestClassifier(bootstrap=True, ccp_alpha=0.0, class_weight=None,\n",
              "                       criterion='gini', max_depth=None, max_features='auto',\n",
              "                       max_leaf_nodes=None, max_samples=None,\n",
              "                       min_impurity_decrease=0.0, min_impurity_split=None,\n",
              "                       min_samples_leaf=1, min_samples_split=2,\n",
              "                       min_weight_fraction_leaf=0.0, n_estimators=Ellipsis,\n",
              "                       n_jobs=None, oob_score=False, random_state=None,\n",
              "                       verbose=0, warm_start=False)"
            ]
          },
          "metadata": {
            "tags": []
          },
          "execution_count": 466
        }
      ]
    },
    {
      "cell_type": "code",
      "metadata": {
        "colab": {
          "base_uri": "https://localhost:8080/"
        },
        "id": "ETIHizO-habf",
        "outputId": "021aea39-782c-4750-9a79-6ad18529e5d4"
      },
      "source": [
        "RandomForestClassifier(max_depth=3, random_state=0)\n",
        "print(clf.feature_importances_)"
      ],
      "execution_count": 467,
      "outputs": [
        {
          "output_type": "stream",
          "text": [
            "[0.32021113 0.37411045 0.30567842]\n"
          ],
          "name": "stdout"
        }
      ]
    },
    {
      "cell_type": "code",
      "metadata": {
        "colab": {
          "base_uri": "https://localhost:8080/"
        },
        "id": "ldf9zuCwhcd0",
        "outputId": "6301dc0d-714a-4f95-9d02-ae8d353cbe27"
      },
      "source": [
        "y_pred = clf.predict(x_Test_pca)\n",
        "y_pred"
      ],
      "execution_count": 468,
      "outputs": [
        {
          "output_type": "execute_result",
          "data": {
            "text/plain": [
              "array([1, 0, 1, 0, 1, 0, 0, 1, 0, 1, 0, 1, 0, 1, 1, 1, 1, 1, 0, 0, 0, 0,\n",
              "       0, 0, 1, 1, 1, 1, 0, 0, 1, 1, 1, 1, 1, 1, 0, 0, 0, 0])"
            ]
          },
          "metadata": {
            "tags": []
          },
          "execution_count": 468
        }
      ]
    },
    {
      "cell_type": "code",
      "metadata": {
        "colab": {
          "base_uri": "https://localhost:8080/"
        },
        "id": "xSn3sSL8heEh",
        "outputId": "25b0a10e-7f43-4d42-80d6-bb329d9d46f2"
      },
      "source": [
        "accuracy_score(y_Test, y_pred)"
      ],
      "execution_count": 469,
      "outputs": [
        {
          "output_type": "execute_result",
          "data": {
            "text/plain": [
              "0.925"
            ]
          },
          "metadata": {
            "tags": []
          },
          "execution_count": 469
        }
      ]
    },
    {
      "cell_type": "code",
      "metadata": {
        "colab": {
          "base_uri": "https://localhost:8080/"
        },
        "id": "F1_n55phhgQY",
        "outputId": "2c31f4b0-ce59-423d-8b16-71370465f85e"
      },
      "source": [
        "rfc_acc = accuracy_score(y_Test,y_pred)\n",
        "print(rfc_acc)"
      ],
      "execution_count": 470,
      "outputs": [
        {
          "output_type": "stream",
          "text": [
            "0.925\n"
          ],
          "name": "stdout"
        }
      ]
    },
    {
      "cell_type": "code",
      "metadata": {
        "id": "1FaV9VlygSTz",
        "colab": {
          "base_uri": "https://localhost:8080/"
        },
        "outputId": "2cb71f6e-5315-4f7f-84e6-58348cc6fe79"
      },
      "source": [
        "# Making the Confusion Matrix\n",
        "from sklearn.metrics import confusion_matrix\n",
        "cm = confusion_matrix(y_Test, y_pred)\n",
        "cm"
      ],
      "execution_count": 471,
      "outputs": [
        {
          "output_type": "execute_result",
          "data": {
            "text/plain": [
              "array([[18,  2],\n",
              "       [ 1, 19]])"
            ]
          },
          "metadata": {
            "tags": []
          },
          "execution_count": 471
        }
      ]
    },
    {
      "cell_type": "code",
      "metadata": {
        "colab": {
          "base_uri": "https://localhost:8080/"
        },
        "id": "IIy8OmBzLcJi",
        "outputId": "0a34c411-f65a-45f6-a43f-0063bc8f34fb"
      },
      "source": [
        "from sklearn.metrics import accuracy_score\n",
        "print(accuracy_score(y_Test,y_pred))"
      ],
      "execution_count": 472,
      "outputs": [
        {
          "output_type": "stream",
          "text": [
            "0.925\n"
          ],
          "name": "stdout"
        }
      ]
    },
    {
      "cell_type": "code",
      "metadata": {
        "colab": {
          "base_uri": "https://localhost:8080/"
        },
        "id": "AAbwPlhaNzV3",
        "outputId": "5ca9864d-565c-4de8-c677-8819069dc829"
      },
      "source": [
        "\n",
        "rfc_acc = accuracy_score(y_Test,y_pred)\n",
        "print(rfc_acc)"
      ],
      "execution_count": 473,
      "outputs": [
        {
          "output_type": "stream",
          "text": [
            "0.925\n"
          ],
          "name": "stdout"
        }
      ]
    },
    {
      "cell_type": "code",
      "metadata": {
        "id": "ZMMubzcCN6eJ",
        "colab": {
          "base_uri": "https://localhost:8080/",
          "height": 107
        },
        "outputId": "8c1d2936-8e87-4210-e462-a6f76a362fc8"
      },
      "source": [
        "tempResults = pd.DataFrame({'Algorithm':['Random Forest Classifier Method'], 'Accuracy':[rfc_acc]})\n",
        "results = pd.concat( [results, tempResults] )\n",
        "results = results[['Algorithm','Accuracy']]\n",
        "results"
      ],
      "execution_count": 474,
      "outputs": [
        {
          "output_type": "execute_result",
          "data": {
            "text/html": [
              "<div>\n",
              "<style scoped>\n",
              "    .dataframe tbody tr th:only-of-type {\n",
              "        vertical-align: middle;\n",
              "    }\n",
              "\n",
              "    .dataframe tbody tr th {\n",
              "        vertical-align: top;\n",
              "    }\n",
              "\n",
              "    .dataframe thead th {\n",
              "        text-align: right;\n",
              "    }\n",
              "</style>\n",
              "<table border=\"1\" class=\"dataframe\">\n",
              "  <thead>\n",
              "    <tr style=\"text-align: right;\">\n",
              "      <th></th>\n",
              "      <th>Algorithm</th>\n",
              "      <th>Accuracy</th>\n",
              "    </tr>\n",
              "  </thead>\n",
              "  <tbody>\n",
              "    <tr>\n",
              "      <th>0</th>\n",
              "      <td>Decision tree Classifier Method</td>\n",
              "      <td>0.850</td>\n",
              "    </tr>\n",
              "    <tr>\n",
              "      <th>0</th>\n",
              "      <td>Random Forest Classifier Method</td>\n",
              "      <td>0.925</td>\n",
              "    </tr>\n",
              "  </tbody>\n",
              "</table>\n",
              "</div>"
            ],
            "text/plain": [
              "                         Algorithm  Accuracy\n",
              "0  Decision tree Classifier Method     0.850\n",
              "0  Random Forest Classifier Method     0.925"
            ]
          },
          "metadata": {
            "tags": []
          },
          "execution_count": 474
        }
      ]
    },
    {
      "cell_type": "code",
      "metadata": {
        "id": "KC6Puhwlc8T6"
      },
      "source": [
        ""
      ],
      "execution_count": 474,
      "outputs": []
    },
    {
      "cell_type": "markdown",
      "metadata": {
        "id": "y62k3_7uz_f0"
      },
      "source": [
        "#XGBoost"
      ]
    },
    {
      "cell_type": "code",
      "metadata": {
        "id": "yV9dtMUN82T8"
      },
      "source": [
        "import numpy as np\n",
        "from sklearn.datasets import load_svmlight_files\n",
        "from sklearn.metrics import accuracy_score\n",
        "\n",
        "from xgboost.sklearn import XGBClassifier"
      ],
      "execution_count": 475,
      "outputs": []
    },
    {
      "cell_type": "code",
      "metadata": {
        "colab": {
          "base_uri": "https://localhost:8080/"
        },
        "id": "bLVlUanp86U_",
        "outputId": "514c0200-6eba-468d-f4af-c6546d6f2edd"
      },
      "source": [
        "model =XGBClassifier()\n",
        "eval_set =[(x_Test_pca,y_Test)]\n",
        "model.fit(x_Train_pca,y_Train,early_stopping_rounds= 10, eval_metric ='logloss',eval_set=eval_set,verbose=True)"
      ],
      "execution_count": 476,
      "outputs": [
        {
          "output_type": "stream",
          "text": [
            "[0]\tvalidation_0-logloss:0.632165\n",
            "Will train until validation_0-logloss hasn't improved in 10 rounds.\n",
            "[1]\tvalidation_0-logloss:0.581129\n",
            "[2]\tvalidation_0-logloss:0.537903\n",
            "[3]\tvalidation_0-logloss:0.500946\n",
            "[4]\tvalidation_0-logloss:0.471037\n",
            "[5]\tvalidation_0-logloss:0.445122\n",
            "[6]\tvalidation_0-logloss:0.424104\n",
            "[7]\tvalidation_0-logloss:0.402066\n",
            "[8]\tvalidation_0-logloss:0.382978\n",
            "[9]\tvalidation_0-logloss:0.366404\n",
            "[10]\tvalidation_0-logloss:0.353653\n",
            "[11]\tvalidation_0-logloss:0.340427\n",
            "[12]\tvalidation_0-logloss:0.33064\n",
            "[13]\tvalidation_0-logloss:0.320005\n",
            "[14]\tvalidation_0-logloss:0.307552\n",
            "[15]\tvalidation_0-logloss:0.300319\n",
            "[16]\tvalidation_0-logloss:0.292465\n",
            "[17]\tvalidation_0-logloss:0.286982\n",
            "[18]\tvalidation_0-logloss:0.28045\n",
            "[19]\tvalidation_0-logloss:0.271715\n",
            "[20]\tvalidation_0-logloss:0.263995\n",
            "[21]\tvalidation_0-logloss:0.256026\n",
            "[22]\tvalidation_0-logloss:0.24853\n",
            "[23]\tvalidation_0-logloss:0.245558\n",
            "[24]\tvalidation_0-logloss:0.240003\n",
            "[25]\tvalidation_0-logloss:0.236649\n",
            "[26]\tvalidation_0-logloss:0.232114\n",
            "[27]\tvalidation_0-logloss:0.229476\n",
            "[28]\tvalidation_0-logloss:0.224858\n",
            "[29]\tvalidation_0-logloss:0.221781\n",
            "[30]\tvalidation_0-logloss:0.219369\n",
            "[31]\tvalidation_0-logloss:0.21917\n",
            "[32]\tvalidation_0-logloss:0.218102\n",
            "[33]\tvalidation_0-logloss:0.218172\n",
            "[34]\tvalidation_0-logloss:0.217259\n",
            "[35]\tvalidation_0-logloss:0.217215\n",
            "[36]\tvalidation_0-logloss:0.21682\n",
            "[37]\tvalidation_0-logloss:0.216267\n",
            "[38]\tvalidation_0-logloss:0.214426\n",
            "[39]\tvalidation_0-logloss:0.214496\n",
            "[40]\tvalidation_0-logloss:0.21433\n",
            "[41]\tvalidation_0-logloss:0.21226\n",
            "[42]\tvalidation_0-logloss:0.210361\n",
            "[43]\tvalidation_0-logloss:0.210962\n",
            "[44]\tvalidation_0-logloss:0.210876\n",
            "[45]\tvalidation_0-logloss:0.207595\n",
            "[46]\tvalidation_0-logloss:0.204501\n",
            "[47]\tvalidation_0-logloss:0.20508\n",
            "[48]\tvalidation_0-logloss:0.206121\n",
            "[49]\tvalidation_0-logloss:0.20535\n",
            "[50]\tvalidation_0-logloss:0.204676\n",
            "[51]\tvalidation_0-logloss:0.202172\n",
            "[52]\tvalidation_0-logloss:0.201994\n",
            "[53]\tvalidation_0-logloss:0.201927\n",
            "[54]\tvalidation_0-logloss:0.202624\n",
            "[55]\tvalidation_0-logloss:0.202504\n",
            "[56]\tvalidation_0-logloss:0.199876\n",
            "[57]\tvalidation_0-logloss:0.200815\n",
            "[58]\tvalidation_0-logloss:0.202572\n",
            "[59]\tvalidation_0-logloss:0.203496\n",
            "[60]\tvalidation_0-logloss:0.205224\n",
            "[61]\tvalidation_0-logloss:0.204608\n",
            "[62]\tvalidation_0-logloss:0.203432\n",
            "[63]\tvalidation_0-logloss:0.204312\n",
            "[64]\tvalidation_0-logloss:0.202384\n",
            "[65]\tvalidation_0-logloss:0.202586\n",
            "[66]\tvalidation_0-logloss:0.202469\n",
            "Stopping. Best iteration:\n",
            "[56]\tvalidation_0-logloss:0.199876\n",
            "\n"
          ],
          "name": "stdout"
        },
        {
          "output_type": "execute_result",
          "data": {
            "text/plain": [
              "XGBClassifier(base_score=0.5, booster='gbtree', colsample_bylevel=1,\n",
              "              colsample_bynode=1, colsample_bytree=1, gamma=0,\n",
              "              learning_rate=0.1, max_delta_step=0, max_depth=3,\n",
              "              min_child_weight=1, missing=None, n_estimators=100, n_jobs=1,\n",
              "              nthread=None, objective='binary:logistic', random_state=0,\n",
              "              reg_alpha=0, reg_lambda=1, scale_pos_weight=1, seed=None,\n",
              "              silent=None, subsample=1, verbosity=1)"
            ]
          },
          "metadata": {
            "tags": []
          },
          "execution_count": 476
        }
      ]
    },
    {
      "cell_type": "code",
      "metadata": {
        "id": "m9_WdfeY86Ss"
      },
      "source": [
        "#make predictions for test data\n",
        "predictions = model.predict(x_Test_pca)\n"
      ],
      "execution_count": 477,
      "outputs": []
    },
    {
      "cell_type": "code",
      "metadata": {
        "id": "Lzyib1z886NE",
        "colab": {
          "base_uri": "https://localhost:8080/"
        },
        "outputId": "188c3e0c-0293-42a0-96ab-990f826254f0"
      },
      "source": [
        "y_xgb_pred =model.predict(x_Test_pca)\n",
        "print(y_Test)\n",
        "print(y_xgb_pred)\n",
        "\n",
        "cm = confusion_matrix(y_xgb_pred,y_Test)\n",
        "print(cm)"
      ],
      "execution_count": 478,
      "outputs": [
        {
          "output_type": "stream",
          "text": [
            "     target\n",
            "9         1\n",
            "143       0\n",
            "26        1\n",
            "167       0\n",
            "21        1\n",
            "132       0\n",
            "163       0\n",
            "5         1\n",
            "197       0\n",
            "14        1\n",
            "15        1\n",
            "179       0\n",
            "139       0\n",
            "54        1\n",
            "56        1\n",
            "10        1\n",
            "96        1\n",
            "63        1\n",
            "113       0\n",
            "123       0\n",
            "128       0\n",
            "121       0\n",
            "177       0\n",
            "186       0\n",
            "83        1\n",
            "72        1\n",
            "64        1\n",
            "0         1\n",
            "175       0\n",
            "122       0\n",
            "8         1\n",
            "60        1\n",
            "18        1\n",
            "27        1\n",
            "116       0\n",
            "51        1\n",
            "170       0\n",
            "130       0\n",
            "107       0\n",
            "146       0\n",
            "[1 0 1 0 1 0 0 1 0 1 1 1 0 1 1 1 1 1 0 1 1 0 0 0 1 1 1 1 0 0 1 1 1 1 0 1 0\n",
            " 0 0 1]\n",
            "[[16  0]\n",
            " [ 4 20]]\n"
          ],
          "name": "stdout"
        }
      ]
    },
    {
      "cell_type": "code",
      "metadata": {
        "id": "PN34t01g86KD",
        "colab": {
          "base_uri": "https://localhost:8080/"
        },
        "outputId": "60d8061e-751b-4a09-d7d8-beb4f169e13b"
      },
      "source": [
        "# evoluate predictions\n",
        "accuracy = accuracy_score(y_Test, predictions)\n",
        "print(\"Accuracy: %.2f%%\" %(accuracy * 100.0))"
      ],
      "execution_count": 479,
      "outputs": [
        {
          "output_type": "stream",
          "text": [
            "Accuracy: 90.00%\n"
          ],
          "name": "stdout"
        }
      ]
    },
    {
      "cell_type": "code",
      "metadata": {
        "colab": {
          "base_uri": "https://localhost:8080/"
        },
        "id": "EZKgYbX9e_R0",
        "outputId": "8bfcf7c0-ae5d-4bb9-c49e-2dbf0a195aaa"
      },
      "source": [
        "from sklearn.metrics import accuracy_score\n",
        "print(accuracy_score(y_Test,y_pred))"
      ],
      "execution_count": 480,
      "outputs": [
        {
          "output_type": "stream",
          "text": [
            "0.925\n"
          ],
          "name": "stdout"
        }
      ]
    },
    {
      "cell_type": "code",
      "metadata": {
        "colab": {
          "base_uri": "https://localhost:8080/"
        },
        "id": "UJ6GBAuNgVXJ",
        "outputId": "da9adaae-8266-4577-85bd-4841d9ec7f25"
      },
      "source": [
        "xgb_acc = accuracy_score(y_Test, y_pred)\n",
        "print(xgb_acc)"
      ],
      "execution_count": 481,
      "outputs": [
        {
          "output_type": "stream",
          "text": [
            "0.925\n"
          ],
          "name": "stdout"
        }
      ]
    },
    {
      "cell_type": "code",
      "metadata": {
        "colab": {
          "base_uri": "https://localhost:8080/",
          "height": 137
        },
        "id": "CfKMU6MVgYuJ",
        "outputId": "30937cd3-0b21-485a-9dd0-46f9c254a9c7"
      },
      "source": [
        "tempResults = pd.DataFrame({'Algorithm':['XGBoost Classifier Method'], 'Accuracy':[xgb_acc]})\n",
        "results = pd.concat( [results, tempResults] )\n",
        "results = results[['Algorithm','Accuracy']]\n",
        "results"
      ],
      "execution_count": 482,
      "outputs": [
        {
          "output_type": "execute_result",
          "data": {
            "text/html": [
              "<div>\n",
              "<style scoped>\n",
              "    .dataframe tbody tr th:only-of-type {\n",
              "        vertical-align: middle;\n",
              "    }\n",
              "\n",
              "    .dataframe tbody tr th {\n",
              "        vertical-align: top;\n",
              "    }\n",
              "\n",
              "    .dataframe thead th {\n",
              "        text-align: right;\n",
              "    }\n",
              "</style>\n",
              "<table border=\"1\" class=\"dataframe\">\n",
              "  <thead>\n",
              "    <tr style=\"text-align: right;\">\n",
              "      <th></th>\n",
              "      <th>Algorithm</th>\n",
              "      <th>Accuracy</th>\n",
              "    </tr>\n",
              "  </thead>\n",
              "  <tbody>\n",
              "    <tr>\n",
              "      <th>0</th>\n",
              "      <td>Decision tree Classifier Method</td>\n",
              "      <td>0.850</td>\n",
              "    </tr>\n",
              "    <tr>\n",
              "      <th>0</th>\n",
              "      <td>Random Forest Classifier Method</td>\n",
              "      <td>0.925</td>\n",
              "    </tr>\n",
              "    <tr>\n",
              "      <th>0</th>\n",
              "      <td>XGBoost Classifier Method</td>\n",
              "      <td>0.925</td>\n",
              "    </tr>\n",
              "  </tbody>\n",
              "</table>\n",
              "</div>"
            ],
            "text/plain": [
              "                         Algorithm  Accuracy\n",
              "0  Decision tree Classifier Method     0.850\n",
              "0  Random Forest Classifier Method     0.925\n",
              "0        XGBoost Classifier Method     0.925"
            ]
          },
          "metadata": {
            "tags": []
          },
          "execution_count": 482
        }
      ]
    },
    {
      "cell_type": "code",
      "metadata": {
        "id": "bdvkpD9whPZu"
      },
      "source": [
        ""
      ],
      "execution_count": 482,
      "outputs": []
    }
  ]
}