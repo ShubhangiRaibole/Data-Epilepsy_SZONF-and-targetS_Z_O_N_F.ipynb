{
  "nbformat": 4,
  "nbformat_minor": 0,
  "metadata": {
    "colab": {
      "name": "S_O_F_and_target_S_O_F.ipynb",
      "provenance": [],
      "toc_visible": true
    },
    "kernelspec": {
      "display_name": "Python 3",
      "name": "python3"
    },
    "language_info": {
      "name": "python"
    }
  },
  "cells": [
    {
      "cell_type": "code",
      "metadata": {
        "id": "mFP1CcolNQRJ"
      },
      "source": [
        "import pandas as pd\n",
        "import numpy as np \n",
        "#for data visualization\n",
        "import seaborn as sns\n",
        "import matplotlib.pyplot as plt\n",
        "%matplotlib inline\n",
        "\n",
        "#for evaluation\n",
        "from sklearn.metrics import mean_absolute_error, r2_score, classification_report,confusion_matrix , accuracy_score, f1_score\n",
        "import time\n",
        "import warnings\n",
        "warnings.filterwarnings('ignore')"
      ],
      "execution_count": 1,
      "outputs": []
    },
    {
      "cell_type": "code",
      "metadata": {
        "colab": {
          "base_uri": "https://localhost:8080/",
          "height": 270
        },
        "id": "X6iB8u_PNsJS",
        "outputId": "a7218fb9-48b9-4629-d7b4-74ee5409752e"
      },
      "source": [
        "df = pd.read_excel('/content/data_epilepsy.xlsx',sheet_name='S-O-F')\n",
        "df.head()\n"
      ],
      "execution_count": 4,
      "outputs": [
        {
          "output_type": "execute_result",
          "data": {
            "text/html": [
              "<div>\n",
              "<style scoped>\n",
              "    .dataframe tbody tr th:only-of-type {\n",
              "        vertical-align: middle;\n",
              "    }\n",
              "\n",
              "    .dataframe tbody tr th {\n",
              "        vertical-align: top;\n",
              "    }\n",
              "\n",
              "    .dataframe thead th {\n",
              "        text-align: right;\n",
              "    }\n",
              "</style>\n",
              "<table border=\"1\" class=\"dataframe\">\n",
              "  <thead>\n",
              "    <tr style=\"text-align: right;\">\n",
              "      <th></th>\n",
              "      <th>Unnamed: 0</th>\n",
              "      <th>Unnamed: 1</th>\n",
              "      <th>Unnamed: 2</th>\n",
              "      <th>Unnamed: 3</th>\n",
              "      <th>Unnamed: 4</th>\n",
              "      <th>Unnamed: 5</th>\n",
              "      <th>Unnamed: 6</th>\n",
              "      <th>Unnamed: 7</th>\n",
              "      <th>Unnamed: 8</th>\n",
              "      <th>Unnamed: 9</th>\n",
              "      <th>Unnamed: 10</th>\n",
              "      <th>Unnamed: 11</th>\n",
              "      <th>Unnamed: 12</th>\n",
              "      <th>Unnamed: 13</th>\n",
              "      <th>Unnamed: 14</th>\n",
              "      <th>Unnamed: 15</th>\n",
              "      <th>Unnamed: 16</th>\n",
              "      <th>Unnamed: 17</th>\n",
              "      <th>Unnamed: 18</th>\n",
              "      <th>Unnamed: 19</th>\n",
              "      <th>Unnamed: 20</th>\n",
              "      <th>Unnamed: 21</th>\n",
              "      <th>Unnamed: 22</th>\n",
              "      <th>Unnamed: 23</th>\n",
              "      <th>Unnamed: 24</th>\n",
              "      <th>Unnamed: 25</th>\n",
              "      <th>Unnamed: 26</th>\n",
              "      <th>Unnamed: 27</th>\n",
              "      <th>Unnamed: 28</th>\n",
              "      <th>Unnamed: 29</th>\n",
              "      <th>Unnamed: 30</th>\n",
              "      <th>Unnamed: 31</th>\n",
              "      <th>Unnamed: 32</th>\n",
              "      <th>Unnamed: 33</th>\n",
              "      <th>Unnamed: 34</th>\n",
              "      <th>Unnamed: 35</th>\n",
              "      <th>Unnamed: 36</th>\n",
              "      <th>Unnamed: 37</th>\n",
              "      <th>Unnamed: 38</th>\n",
              "      <th>Unnamed: 39</th>\n",
              "      <th>...</th>\n",
              "      <th>Unnamed: 4057</th>\n",
              "      <th>Unnamed: 4058</th>\n",
              "      <th>Unnamed: 4059</th>\n",
              "      <th>Unnamed: 4060</th>\n",
              "      <th>Unnamed: 4061</th>\n",
              "      <th>Unnamed: 4062</th>\n",
              "      <th>Unnamed: 4063</th>\n",
              "      <th>Unnamed: 4064</th>\n",
              "      <th>Unnamed: 4065</th>\n",
              "      <th>Unnamed: 4066</th>\n",
              "      <th>Unnamed: 4067</th>\n",
              "      <th>Unnamed: 4068</th>\n",
              "      <th>Unnamed: 4069</th>\n",
              "      <th>Unnamed: 4070</th>\n",
              "      <th>Unnamed: 4071</th>\n",
              "      <th>Unnamed: 4072</th>\n",
              "      <th>Unnamed: 4073</th>\n",
              "      <th>Unnamed: 4074</th>\n",
              "      <th>Unnamed: 4075</th>\n",
              "      <th>Unnamed: 4076</th>\n",
              "      <th>Unnamed: 4077</th>\n",
              "      <th>Unnamed: 4078</th>\n",
              "      <th>Unnamed: 4079</th>\n",
              "      <th>Unnamed: 4080</th>\n",
              "      <th>Unnamed: 4081</th>\n",
              "      <th>Unnamed: 4082</th>\n",
              "      <th>Unnamed: 4083</th>\n",
              "      <th>Unnamed: 4084</th>\n",
              "      <th>Unnamed: 4085</th>\n",
              "      <th>Unnamed: 4086</th>\n",
              "      <th>Unnamed: 4087</th>\n",
              "      <th>Unnamed: 4088</th>\n",
              "      <th>Unnamed: 4089</th>\n",
              "      <th>Unnamed: 4090</th>\n",
              "      <th>Unnamed: 4091</th>\n",
              "      <th>Unnamed: 4092</th>\n",
              "      <th>Unnamed: 4093</th>\n",
              "      <th>Unnamed: 4094</th>\n",
              "      <th>Unnamed: 4095</th>\n",
              "      <th>Unnamed: 4096</th>\n",
              "    </tr>\n",
              "  </thead>\n",
              "  <tbody>\n",
              "    <tr>\n",
              "      <th>0</th>\n",
              "      <td>100</td>\n",
              "      <td>124</td>\n",
              "      <td>153</td>\n",
              "      <td>185</td>\n",
              "      <td>210</td>\n",
              "      <td>220</td>\n",
              "      <td>216</td>\n",
              "      <td>222</td>\n",
              "      <td>240</td>\n",
              "      <td>265</td>\n",
              "      <td>298</td>\n",
              "      <td>330</td>\n",
              "      <td>362</td>\n",
              "      <td>381</td>\n",
              "      <td>391</td>\n",
              "      <td>390</td>\n",
              "      <td>390</td>\n",
              "      <td>392</td>\n",
              "      <td>395</td>\n",
              "      <td>397</td>\n",
              "      <td>397</td>\n",
              "      <td>393</td>\n",
              "      <td>380</td>\n",
              "      <td>356</td>\n",
              "      <td>334</td>\n",
              "      <td>322</td>\n",
              "      <td>320</td>\n",
              "      <td>322</td>\n",
              "      <td>338</td>\n",
              "      <td>332</td>\n",
              "      <td>317</td>\n",
              "      <td>263</td>\n",
              "      <td>195</td>\n",
              "      <td>142</td>\n",
              "      <td>108</td>\n",
              "      <td>97</td>\n",
              "      <td>80</td>\n",
              "      <td>80</td>\n",
              "      <td>85</td>\n",
              "      <td>39</td>\n",
              "      <td>...</td>\n",
              "      <td>516</td>\n",
              "      <td>592</td>\n",
              "      <td>650</td>\n",
              "      <td>667</td>\n",
              "      <td>637</td>\n",
              "      <td>574</td>\n",
              "      <td>505</td>\n",
              "      <td>450</td>\n",
              "      <td>413</td>\n",
              "      <td>399</td>\n",
              "      <td>414</td>\n",
              "      <td>448</td>\n",
              "      <td>486</td>\n",
              "      <td>449</td>\n",
              "      <td>291</td>\n",
              "      <td>-46</td>\n",
              "      <td>-457</td>\n",
              "      <td>-878</td>\n",
              "      <td>-1178</td>\n",
              "      <td>-1324</td>\n",
              "      <td>-1310</td>\n",
              "      <td>-1105</td>\n",
              "      <td>-770</td>\n",
              "      <td>-345</td>\n",
              "      <td>42</td>\n",
              "      <td>315</td>\n",
              "      <td>465</td>\n",
              "      <td>513</td>\n",
              "      <td>478</td>\n",
              "      <td>378</td>\n",
              "      <td>250</td>\n",
              "      <td>137</td>\n",
              "      <td>57</td>\n",
              "      <td>17</td>\n",
              "      <td>0</td>\n",
              "      <td>7</td>\n",
              "      <td>26</td>\n",
              "      <td>57</td>\n",
              "      <td>95</td>\n",
              "      <td>462</td>\n",
              "    </tr>\n",
              "    <tr>\n",
              "      <th>1</th>\n",
              "      <td>340</td>\n",
              "      <td>353</td>\n",
              "      <td>400</td>\n",
              "      <td>470</td>\n",
              "      <td>538</td>\n",
              "      <td>590</td>\n",
              "      <td>611</td>\n",
              "      <td>629</td>\n",
              "      <td>649</td>\n",
              "      <td>693</td>\n",
              "      <td>759</td>\n",
              "      <td>837</td>\n",
              "      <td>812</td>\n",
              "      <td>684</td>\n",
              "      <td>389</td>\n",
              "      <td>-231</td>\n",
              "      <td>-1250</td>\n",
              "      <td>-1768</td>\n",
              "      <td>-1816</td>\n",
              "      <td>-1637</td>\n",
              "      <td>-984</td>\n",
              "      <td>-476</td>\n",
              "      <td>-224</td>\n",
              "      <td>-14</td>\n",
              "      <td>165</td>\n",
              "      <td>314</td>\n",
              "      <td>408</td>\n",
              "      <td>454</td>\n",
              "      <td>467</td>\n",
              "      <td>437</td>\n",
              "      <td>412</td>\n",
              "      <td>379</td>\n",
              "      <td>376</td>\n",
              "      <td>339</td>\n",
              "      <td>302</td>\n",
              "      <td>248</td>\n",
              "      <td>200</td>\n",
              "      <td>174</td>\n",
              "      <td>144</td>\n",
              "      <td>152</td>\n",
              "      <td>...</td>\n",
              "      <td>304</td>\n",
              "      <td>254</td>\n",
              "      <td>82</td>\n",
              "      <td>-174</td>\n",
              "      <td>-467</td>\n",
              "      <td>-537</td>\n",
              "      <td>-450</td>\n",
              "      <td>-178</td>\n",
              "      <td>64</td>\n",
              "      <td>274</td>\n",
              "      <td>464</td>\n",
              "      <td>496</td>\n",
              "      <td>571</td>\n",
              "      <td>467</td>\n",
              "      <td>299</td>\n",
              "      <td>130</td>\n",
              "      <td>28</td>\n",
              "      <td>82</td>\n",
              "      <td>270</td>\n",
              "      <td>597</td>\n",
              "      <td>886</td>\n",
              "      <td>1071</td>\n",
              "      <td>1166</td>\n",
              "      <td>1146</td>\n",
              "      <td>1000</td>\n",
              "      <td>773</td>\n",
              "      <td>423</td>\n",
              "      <td>118</td>\n",
              "      <td>-75</td>\n",
              "      <td>-18</td>\n",
              "      <td>205</td>\n",
              "      <td>556</td>\n",
              "      <td>824</td>\n",
              "      <td>919</td>\n",
              "      <td>916</td>\n",
              "      <td>829</td>\n",
              "      <td>722</td>\n",
              "      <td>512</td>\n",
              "      <td>130</td>\n",
              "      <td>196</td>\n",
              "    </tr>\n",
              "    <tr>\n",
              "      <th>2</th>\n",
              "      <td>-310</td>\n",
              "      <td>93</td>\n",
              "      <td>494</td>\n",
              "      <td>789</td>\n",
              "      <td>798</td>\n",
              "      <td>552</td>\n",
              "      <td>202</td>\n",
              "      <td>-95</td>\n",
              "      <td>-262</td>\n",
              "      <td>-327</td>\n",
              "      <td>-420</td>\n",
              "      <td>-483</td>\n",
              "      <td>-508</td>\n",
              "      <td>-502</td>\n",
              "      <td>-459</td>\n",
              "      <td>-376</td>\n",
              "      <td>-266</td>\n",
              "      <td>-113</td>\n",
              "      <td>18</td>\n",
              "      <td>98</td>\n",
              "      <td>135</td>\n",
              "      <td>154</td>\n",
              "      <td>163</td>\n",
              "      <td>174</td>\n",
              "      <td>186</td>\n",
              "      <td>196</td>\n",
              "      <td>208</td>\n",
              "      <td>216</td>\n",
              "      <td>218</td>\n",
              "      <td>208</td>\n",
              "      <td>200</td>\n",
              "      <td>197</td>\n",
              "      <td>197</td>\n",
              "      <td>201</td>\n",
              "      <td>211</td>\n",
              "      <td>224</td>\n",
              "      <td>239</td>\n",
              "      <td>246</td>\n",
              "      <td>252</td>\n",
              "      <td>261</td>\n",
              "      <td>...</td>\n",
              "      <td>-21</td>\n",
              "      <td>-12</td>\n",
              "      <td>29</td>\n",
              "      <td>75</td>\n",
              "      <td>111</td>\n",
              "      <td>145</td>\n",
              "      <td>168</td>\n",
              "      <td>169</td>\n",
              "      <td>150</td>\n",
              "      <td>113</td>\n",
              "      <td>106</td>\n",
              "      <td>137</td>\n",
              "      <td>204</td>\n",
              "      <td>291</td>\n",
              "      <td>388</td>\n",
              "      <td>477</td>\n",
              "      <td>546</td>\n",
              "      <td>574</td>\n",
              "      <td>546</td>\n",
              "      <td>467</td>\n",
              "      <td>360</td>\n",
              "      <td>255</td>\n",
              "      <td>164</td>\n",
              "      <td>123</td>\n",
              "      <td>126</td>\n",
              "      <td>184</td>\n",
              "      <td>312</td>\n",
              "      <td>410</td>\n",
              "      <td>470</td>\n",
              "      <td>496</td>\n",
              "      <td>437</td>\n",
              "      <td>345</td>\n",
              "      <td>108</td>\n",
              "      <td>-216</td>\n",
              "      <td>-525</td>\n",
              "      <td>-735</td>\n",
              "      <td>-847</td>\n",
              "      <td>-721</td>\n",
              "      <td>-491</td>\n",
              "      <td>910</td>\n",
              "    </tr>\n",
              "    <tr>\n",
              "      <th>3</th>\n",
              "      <td>84</td>\n",
              "      <td>75</td>\n",
              "      <td>21</td>\n",
              "      <td>-68</td>\n",
              "      <td>-138</td>\n",
              "      <td>-184</td>\n",
              "      <td>-197</td>\n",
              "      <td>-186</td>\n",
              "      <td>-155</td>\n",
              "      <td>-111</td>\n",
              "      <td>-58</td>\n",
              "      <td>-26</td>\n",
              "      <td>-18</td>\n",
              "      <td>-18</td>\n",
              "      <td>-40</td>\n",
              "      <td>-56</td>\n",
              "      <td>-35</td>\n",
              "      <td>35</td>\n",
              "      <td>149</td>\n",
              "      <td>253</td>\n",
              "      <td>298</td>\n",
              "      <td>282</td>\n",
              "      <td>232</td>\n",
              "      <td>161</td>\n",
              "      <td>96</td>\n",
              "      <td>71</td>\n",
              "      <td>64</td>\n",
              "      <td>70</td>\n",
              "      <td>35</td>\n",
              "      <td>-45</td>\n",
              "      <td>-116</td>\n",
              "      <td>-169</td>\n",
              "      <td>-192</td>\n",
              "      <td>-196</td>\n",
              "      <td>-173</td>\n",
              "      <td>-131</td>\n",
              "      <td>-82</td>\n",
              "      <td>-38</td>\n",
              "      <td>-8</td>\n",
              "      <td>-4</td>\n",
              "      <td>...</td>\n",
              "      <td>-91</td>\n",
              "      <td>-191</td>\n",
              "      <td>-246</td>\n",
              "      <td>-261</td>\n",
              "      <td>-248</td>\n",
              "      <td>-228</td>\n",
              "      <td>-197</td>\n",
              "      <td>-172</td>\n",
              "      <td>-150</td>\n",
              "      <td>-133</td>\n",
              "      <td>-123</td>\n",
              "      <td>-113</td>\n",
              "      <td>-109</td>\n",
              "      <td>-93</td>\n",
              "      <td>-71</td>\n",
              "      <td>-54</td>\n",
              "      <td>-42</td>\n",
              "      <td>-32</td>\n",
              "      <td>-17</td>\n",
              "      <td>29</td>\n",
              "      <td>110</td>\n",
              "      <td>200</td>\n",
              "      <td>271</td>\n",
              "      <td>285</td>\n",
              "      <td>236</td>\n",
              "      <td>142</td>\n",
              "      <td>50</td>\n",
              "      <td>-15</td>\n",
              "      <td>-61</td>\n",
              "      <td>-83</td>\n",
              "      <td>-119</td>\n",
              "      <td>-148</td>\n",
              "      <td>-171</td>\n",
              "      <td>-195</td>\n",
              "      <td>-218</td>\n",
              "      <td>-234</td>\n",
              "      <td>-238</td>\n",
              "      <td>-209</td>\n",
              "      <td>-165</td>\n",
              "      <td>-212</td>\n",
              "    </tr>\n",
              "    <tr>\n",
              "      <th>4</th>\n",
              "      <td>343</td>\n",
              "      <td>311</td>\n",
              "      <td>284</td>\n",
              "      <td>274</td>\n",
              "      <td>260</td>\n",
              "      <td>237</td>\n",
              "      <td>165</td>\n",
              "      <td>-33</td>\n",
              "      <td>-271</td>\n",
              "      <td>-425</td>\n",
              "      <td>-418</td>\n",
              "      <td>-254</td>\n",
              "      <td>-104</td>\n",
              "      <td>-14</td>\n",
              "      <td>16</td>\n",
              "      <td>24</td>\n",
              "      <td>23</td>\n",
              "      <td>11</td>\n",
              "      <td>4</td>\n",
              "      <td>20</td>\n",
              "      <td>40</td>\n",
              "      <td>67</td>\n",
              "      <td>99</td>\n",
              "      <td>127</td>\n",
              "      <td>130</td>\n",
              "      <td>126</td>\n",
              "      <td>133</td>\n",
              "      <td>124</td>\n",
              "      <td>108</td>\n",
              "      <td>54</td>\n",
              "      <td>-5</td>\n",
              "      <td>-45</td>\n",
              "      <td>-61</td>\n",
              "      <td>-65</td>\n",
              "      <td>-52</td>\n",
              "      <td>-46</td>\n",
              "      <td>-25</td>\n",
              "      <td>-15</td>\n",
              "      <td>-4</td>\n",
              "      <td>-12</td>\n",
              "      <td>...</td>\n",
              "      <td>2</td>\n",
              "      <td>-70</td>\n",
              "      <td>-118</td>\n",
              "      <td>-155</td>\n",
              "      <td>-201</td>\n",
              "      <td>-283</td>\n",
              "      <td>-368</td>\n",
              "      <td>-363</td>\n",
              "      <td>-333</td>\n",
              "      <td>-271</td>\n",
              "      <td>-203</td>\n",
              "      <td>-126</td>\n",
              "      <td>-31</td>\n",
              "      <td>48</td>\n",
              "      <td>86</td>\n",
              "      <td>102</td>\n",
              "      <td>124</td>\n",
              "      <td>125</td>\n",
              "      <td>132</td>\n",
              "      <td>144</td>\n",
              "      <td>187</td>\n",
              "      <td>263</td>\n",
              "      <td>343</td>\n",
              "      <td>411</td>\n",
              "      <td>433</td>\n",
              "      <td>417</td>\n",
              "      <td>397</td>\n",
              "      <td>395</td>\n",
              "      <td>414</td>\n",
              "      <td>435</td>\n",
              "      <td>439</td>\n",
              "      <td>428</td>\n",
              "      <td>423</td>\n",
              "      <td>430</td>\n",
              "      <td>472</td>\n",
              "      <td>515</td>\n",
              "      <td>527</td>\n",
              "      <td>480</td>\n",
              "      <td>397</td>\n",
              "      <td>217</td>\n",
              "    </tr>\n",
              "  </tbody>\n",
              "</table>\n",
              "<p>5 rows × 4097 columns</p>\n",
              "</div>"
            ],
            "text/plain": [
              "   Unnamed: 0  Unnamed: 1  ...  Unnamed: 4095  Unnamed: 4096\n",
              "0         100         124  ...             95            462\n",
              "1         340         353  ...            130            196\n",
              "2        -310          93  ...           -491            910\n",
              "3          84          75  ...           -165           -212\n",
              "4         343         311  ...            397            217\n",
              "\n",
              "[5 rows x 4097 columns]"
            ]
          },
          "metadata": {
            "tags": []
          },
          "execution_count": 4
        }
      ]
    },
    {
      "cell_type": "code",
      "metadata": {
        "id": "F4s1NTzwN8dK"
      },
      "source": [
        "target = pd.read_excel('/content/data_epilepsy.xlsx',sheet_name='target S-O-F')"
      ],
      "execution_count": 5,
      "outputs": []
    },
    {
      "cell_type": "markdown",
      "metadata": {
        "id": "EVEd9QXeWcej"
      },
      "source": [
        "##PCA"
      ]
    },
    {
      "cell_type": "code",
      "metadata": {
        "colab": {
          "base_uri": "https://localhost:8080/"
        },
        "id": "oyKfNoSWPRt8",
        "outputId": "50f9a280-f6b7-4c43-8d6a-69cd7ce8e469"
      },
      "source": [
        "from sklearn.preprocessing import StandardScaler\n",
        "scaler = StandardScaler()\n",
        "scaler.fit(df)"
      ],
      "execution_count": 6,
      "outputs": [
        {
          "output_type": "execute_result",
          "data": {
            "text/plain": [
              "StandardScaler(copy=True, with_mean=True, with_std=True)"
            ]
          },
          "metadata": {
            "tags": []
          },
          "execution_count": 6
        }
      ]
    },
    {
      "cell_type": "code",
      "metadata": {
        "id": "8zCxPWKEfApw"
      },
      "source": [
        "scaled_data = scaler.transform(df)"
      ],
      "execution_count": 7,
      "outputs": []
    },
    {
      "cell_type": "code",
      "metadata": {
        "id": "G9kvPqSofDV4"
      },
      "source": [
        "from sklearn.decomposition import PCA"
      ],
      "execution_count": 8,
      "outputs": []
    },
    {
      "cell_type": "code",
      "metadata": {
        "id": "f8BoeJj2fG7z"
      },
      "source": [
        "pca = PCA(n_components=3)"
      ],
      "execution_count": 9,
      "outputs": []
    },
    {
      "cell_type": "code",
      "metadata": {
        "colab": {
          "base_uri": "https://localhost:8080/"
        },
        "id": "zmCvfnHefIx9",
        "outputId": "508ebad5-2e08-4cae-c468-3648ed99558e"
      },
      "source": [
        "pca.fit(scaled_data)"
      ],
      "execution_count": 10,
      "outputs": [
        {
          "output_type": "execute_result",
          "data": {
            "text/plain": [
              "PCA(copy=True, iterated_power='auto', n_components=3, random_state=None,\n",
              "    svd_solver='auto', tol=0.0, whiten=False)"
            ]
          },
          "metadata": {
            "tags": []
          },
          "execution_count": 10
        }
      ]
    },
    {
      "cell_type": "code",
      "metadata": {
        "id": "qtuJf1YUfKd3"
      },
      "source": [
        "x_pca = pca.transform(scaled_data)"
      ],
      "execution_count": 11,
      "outputs": []
    },
    {
      "cell_type": "code",
      "metadata": {
        "colab": {
          "base_uri": "https://localhost:8080/"
        },
        "id": "ILbFe9W1fMTI",
        "outputId": "e51f4d11-ad55-491a-d9c1-45f5e03f7050"
      },
      "source": [
        "scaled_data.shape"
      ],
      "execution_count": 12,
      "outputs": [
        {
          "output_type": "execute_result",
          "data": {
            "text/plain": [
              "(300, 4097)"
            ]
          },
          "metadata": {
            "tags": []
          },
          "execution_count": 12
        }
      ]
    },
    {
      "cell_type": "code",
      "metadata": {
        "colab": {
          "base_uri": "https://localhost:8080/"
        },
        "id": "EKsuyEhZfN8d",
        "outputId": "b2d4dbcf-42bc-4242-d9f9-f9ef51032918"
      },
      "source": [
        "x_pca.shape"
      ],
      "execution_count": 13,
      "outputs": [
        {
          "output_type": "execute_result",
          "data": {
            "text/plain": [
              "(300, 3)"
            ]
          },
          "metadata": {
            "tags": []
          },
          "execution_count": 13
        }
      ]
    },
    {
      "cell_type": "code",
      "metadata": {
        "colab": {
          "base_uri": "https://localhost:8080/",
          "height": 405
        },
        "id": "MegdhihGfQD6",
        "outputId": "746dbd06-fdbd-4f11-85fe-e0e82bfd5c97"
      },
      "source": [
        "plt.figure(figsize=(8,6))\n",
        "plt.scatter(x_pca[:,0],x_pca[:,1],c=df['Unnamed: 19'],cmap='plasma')\n",
        "plt.xlabel('First principal component')\n",
        "plt.ylabel('Second principal component')"
      ],
      "execution_count": 14,
      "outputs": [
        {
          "output_type": "execute_result",
          "data": {
            "text/plain": [
              "Text(0, 0.5, 'Second principal component')"
            ]
          },
          "metadata": {
            "tags": []
          },
          "execution_count": 14
        },
        {
          "output_type": "display_data",
          "data": {
            "image/png": "[encoded data removed]",
            "text/plain": [
              "<Figure size 576x432 with 1 Axes>"
            ]
          },
          "metadata": {
            "tags": [],
            "needs_background": "light"
          }
        }
      ]
    },
    {
      "cell_type": "code",
      "metadata": {
        "id": "pFCpyU4NfSXQ"
      },
      "source": [
        "x=df.iloc[:,0:]\n",
        "y=target"
      ],
      "execution_count": 15,
      "outputs": []
    },
    {
      "cell_type": "code",
      "metadata": {
        "id": "x6fsr4VegSIh"
      },
      "source": [
        "from sklearn.model_selection import train_test_split\n",
        "x_Train,x_Test,y_Train,y_Test =train_test_split(x,y,train_size =.8)"
      ],
      "execution_count": null,
      "outputs": []
    },
    {
      "cell_type": "markdown",
      "metadata": {
        "id": "oxLEEPRNOrUi"
      },
      "source": [
        "#DecisionTreeClassifier"
      ]
    },
    {
      "cell_type": "code",
      "metadata": {
        "id": "y1fvNm38fWi9"
      },
      "source": [
        "from sklearn.tree import DecisionTreeClassifier\n",
        "model=DecisionTreeClassifier()"
      ],
      "execution_count": null,
      "outputs": []
    },
    {
      "cell_type": "code",
      "metadata": {
        "id": "xDMbVYBFfeKR"
      },
      "source": [
        "import numpy as np\n",
        "from sklearn.utils.multiclass import is_multilabel"
      ],
      "execution_count": null,
      "outputs": []
    },
    {
      "cell_type": "code",
      "metadata": {
        "colab": {
          "base_uri": "https://localhost:8080/"
        },
        "id": "y5T_5gzdfgep",
        "outputId": "16019d27-a23c-4f27-ccca-0903fb7c1438"
      },
      "source": [
        "model.fit(x_Train,y_Train)"
      ],
      "execution_count": null,
      "outputs": [
        {
          "output_type": "execute_result",
          "data": {
            "text/plain": [
              "DecisionTreeClassifier(ccp_alpha=0.0, class_weight=None, criterion='gini',\n",
              "                       max_depth=None, max_features=None, max_leaf_nodes=None,\n",
              "                       min_impurity_decrease=0.0, min_impurity_split=None,\n",
              "                       min_samples_leaf=1, min_samples_split=2,\n",
              "                       min_weight_fraction_leaf=0.0, presort='deprecated',\n",
              "                       random_state=None, splitter='best')"
            ]
          },
          "metadata": {
            "tags": []
          },
          "execution_count": 19
        }
      ]
    },
    {
      "cell_type": "code",
      "metadata": {
        "colab": {
          "base_uri": "https://localhost:8080/"
        },
        "id": "vgZ_SPE9fiSV",
        "outputId": "98e90e01-01c4-42d5-d978-b2fa8be7d7b3"
      },
      "source": [
        "# Necessary imports\n",
        "from scipy.stats import randint\n",
        "from sklearn.tree import DecisionTreeClassifier\n",
        "from sklearn.model_selection import RandomizedSearchCV\n",
        "\n",
        "# Creating the hyperparameter grid \n",
        "param_dist = {\"max_depth\": [3, None],\n",
        "              \"max_features\": randint(1, 9),\n",
        "              \"min_samples_leaf\": randint(1, 9),\n",
        "              \"criterion\": [\"gini\", \"entropy\"]}\n",
        "\n",
        "# Instantiating Decision Tree classifier\n",
        "tree = DecisionTreeClassifier()\n",
        "\n",
        "\n",
        "# Instantiating RandomizedSearchCV object\n",
        "tree_cv = RandomizedSearchCV(tree, param_dist, cv = 5)\n",
        "\n",
        "tree_cv.fit(x_Train, y_Train)\n",
        "  \n",
        "# Print the tuned parameters and score\n",
        "print(\"Tuned Decision Tree Parameters: {}\".format(tree_cv.best_params_))\n",
        "print(\"Best score is {}\".format(tree_cv.best_score_))"
      ],
      "execution_count": null,
      "outputs": [
        {
          "output_type": "stream",
          "text": [
            "Tuned Decision Tree Parameters: {'criterion': 'entropy', 'max_depth': None, 'max_features': 8, 'min_samples_leaf': 3}\n",
            "Best score is 0.6291666666666667\n"
          ],
          "name": "stdout"
        }
      ]
    },
    {
      "cell_type": "code",
      "metadata": {
        "colab": {
          "base_uri": "https://localhost:8080/"
        },
        "id": "3MqSXA14flAa",
        "outputId": "d07ee422-b66a-4093-b8e3-08146b5b80e5"
      },
      "source": [
        "y_pred = tree_cv.predict(x_Test)\n",
        "y_pred"
      ],
      "execution_count": null,
      "outputs": [
        {
          "output_type": "execute_result",
          "data": {
            "text/plain": [
              "array([0, 1, 0, 2, 0, 2, 2, 0, 1, 2, 2, 2, 1, 2, 1, 0, 1, 1, 1, 1, 1, 2,\n",
              "       1, 0, 1, 2, 1, 0, 0, 1, 2, 2, 0, 1, 2, 0, 1, 2, 1, 2, 0, 0, 0, 1,\n",
              "       0, 2, 2, 2, 0, 2, 1, 0, 1, 0, 1, 0, 1, 1, 1, 2])"
            ]
          },
          "metadata": {
            "tags": []
          },
          "execution_count": 21
        }
      ]
    },
    {
      "cell_type": "code",
      "metadata": {
        "colab": {
          "base_uri": "https://localhost:8080/"
        },
        "id": "vDz2lByNfsrS",
        "outputId": "ca452aea-cc21-4a3f-eb8d-6d80dd9e465d"
      },
      "source": [
        "from sklearn.metrics import accuracy_score\n",
        "print(accuracy_score(y_Test,y_pred))"
      ],
      "execution_count": null,
      "outputs": [
        {
          "output_type": "stream",
          "text": [
            "0.7166666666666667\n"
          ],
          "name": "stdout"
        }
      ]
    },
    {
      "cell_type": "code",
      "metadata": {
        "colab": {
          "base_uri": "https://localhost:8080/"
        },
        "id": "JJUGRyQrfu_I",
        "outputId": "7ee079f1-a8b3-401d-87f3-d6c158f4f2d0"
      },
      "source": [
        "dtc_acc = accuracy_score(y_Test,y_pred)\n",
        "print(dtc_acc)"
      ],
      "execution_count": null,
      "outputs": [
        {
          "output_type": "stream",
          "text": [
            "0.7166666666666667\n"
          ],
          "name": "stdout"
        }
      ]
    },
    {
      "cell_type": "code",
      "metadata": {
        "colab": {
          "base_uri": "https://localhost:8080/",
          "height": 31
        },
        "id": "7bir3yHqfwfo",
        "outputId": "c1d8b119-b541-4240-878e-b5eb349d6350"
      },
      "source": [
        "results = pd.DataFrame()\n",
        "results"
      ],
      "execution_count": null,
      "outputs": [
        {
          "output_type": "execute_result",
          "data": {
            "text/html": [
              "<div>\n",
              "<style scoped>\n",
              "    .dataframe tbody tr th:only-of-type {\n",
              "        vertical-align: middle;\n",
              "    }\n",
              "\n",
              "    .dataframe tbody tr th {\n",
              "        vertical-align: top;\n",
              "    }\n",
              "\n",
              "    .dataframe thead th {\n",
              "        text-align: right;\n",
              "    }\n",
              "</style>\n",
              "<table border=\"1\" class=\"dataframe\">\n",
              "  <thead>\n",
              "    <tr style=\"text-align: right;\">\n",
              "      <th></th>\n",
              "    </tr>\n",
              "  </thead>\n",
              "  <tbody>\n",
              "  </tbody>\n",
              "</table>\n",
              "</div>"
            ],
            "text/plain": [
              "Empty DataFrame\n",
              "Columns: []\n",
              "Index: []"
            ]
          },
          "metadata": {
            "tags": []
          },
          "execution_count": 24
        }
      ]
    },
    {
      "cell_type": "code",
      "metadata": {
        "colab": {
          "base_uri": "https://localhost:8080/",
          "height": 77
        },
        "id": "GiIIJgHLf0M0",
        "outputId": "0f43c850-88b5-4fa1-9021-cf842f530f0d"
      },
      "source": [
        "tempResults = pd.DataFrame({'Algorithm':['Decision tree Classifier Method'], 'Accuracy':[dtc_acc]})\n",
        "results = pd.concat( [results, tempResults] )\n",
        "results = results[['Algorithm','Accuracy']]\n",
        "results"
      ],
      "execution_count": null,
      "outputs": [
        {
          "output_type": "execute_result",
          "data": {
            "text/html": [
              "<div>\n",
              "<style scoped>\n",
              "    .dataframe tbody tr th:only-of-type {\n",
              "        vertical-align: middle;\n",
              "    }\n",
              "\n",
              "    .dataframe tbody tr th {\n",
              "        vertical-align: top;\n",
              "    }\n",
              "\n",
              "    .dataframe thead th {\n",
              "        text-align: right;\n",
              "    }\n",
              "</style>\n",
              "<table border=\"1\" class=\"dataframe\">\n",
              "  <thead>\n",
              "    <tr style=\"text-align: right;\">\n",
              "      <th></th>\n",
              "      <th>Algorithm</th>\n",
              "      <th>Accuracy</th>\n",
              "    </tr>\n",
              "  </thead>\n",
              "  <tbody>\n",
              "    <tr>\n",
              "      <th>0</th>\n",
              "      <td>Decision tree Classifier Method</td>\n",
              "      <td>0.716667</td>\n",
              "    </tr>\n",
              "  </tbody>\n",
              "</table>\n",
              "</div>"
            ],
            "text/plain": [
              "                         Algorithm  Accuracy\n",
              "0  Decision tree Classifier Method  0.716667"
            ]
          },
          "metadata": {
            "tags": []
          },
          "execution_count": 25
        }
      ]
    },
    {
      "cell_type": "markdown",
      "metadata": {
        "id": "-IqJGqkUOitm"
      },
      "source": [
        "##Logistic Regression"
      ]
    },
    {
      "cell_type": "code",
      "metadata": {
        "colab": {
          "base_uri": "https://localhost:8080/"
        },
        "id": "I0hcbqzBf2ge",
        "outputId": "9bcccc53-c775-4ea1-953d-ce8b00be1c19"
      },
      "source": [
        "# Necessary imports\n",
        "from sklearn.linear_model import LogisticRegression\n",
        "from sklearn.model_selection import GridSearchCV\n",
        "\n",
        "# Creating the hyperparameter grid\n",
        "c_space = np.logspace(-5, 9, 13)\n",
        "param_grid = {'C': c_space}\n",
        "\n",
        "# Instantiating logistic regression classifier\n",
        "logreg = LogisticRegression()\n",
        "  \n",
        "# Instantiating the GridSearchCV object\n",
        "logreg_cv = GridSearchCV(logreg, param_grid, cv = 6)\n",
        "  \n",
        "logreg_cv.fit(x_Train, y_Train)\n",
        "  \n",
        "# Print the tuned parameters and score\n",
        "print(\"Tuned Logistic Regression Parameters: {}\".format(logreg_cv.best_params_)) \n",
        "print(\"Best score is {}\".format(logreg_cv.best_score_))\n"
      ],
      "execution_count": null,
      "outputs": [
        {
          "output_type": "stream",
          "text": [
            "Tuned Logistic Regression Parameters: {'C': 1e-05}\n",
            "Best score is 0.6124999999999999\n"
          ],
          "name": "stdout"
        }
      ]
    },
    {
      "cell_type": "code",
      "metadata": {
        "id": "cjtpYBGpf7NL"
      },
      "source": [
        "y_pred = logreg_cv.predict(x_Test)"
      ],
      "execution_count": null,
      "outputs": []
    },
    {
      "cell_type": "code",
      "metadata": {
        "colab": {
          "base_uri": "https://localhost:8080/"
        },
        "id": "2RoW-XIQf-LU",
        "outputId": "e68c20a5-609c-4298-89d1-b7c841ae5c92"
      },
      "source": [
        "y_pred"
      ],
      "execution_count": null,
      "outputs": [
        {
          "output_type": "execute_result",
          "data": {
            "text/plain": [
              "array([0, 1, 0, 2, 0, 2, 2, 2, 0, 2, 0, 0, 2, 2, 0, 1, 0, 0, 1, 1, 1, 1,\n",
              "       0, 2, 2, 2, 1, 0, 2, 2, 2, 2, 2, 1, 2, 2, 2, 2, 1, 0, 2, 0, 2, 2,\n",
              "       0, 0, 0, 2, 2, 2, 2, 2, 1, 0, 2, 2, 2, 0, 0, 2])"
            ]
          },
          "metadata": {
            "tags": []
          },
          "execution_count": 28
        }
      ]
    },
    {
      "cell_type": "code",
      "metadata": {
        "colab": {
          "base_uri": "https://localhost:8080/",
          "height": 1000
        },
        "id": "JXqZEbHFf_-O",
        "outputId": "1a6e4f46-df23-4acc-b428-4f75e371a171"
      },
      "source": [
        "y_Test"
      ],
      "execution_count": null,
      "outputs": [
        {
          "output_type": "execute_result",
          "data": {
            "text/html": [
              "<div>\n",
              "<style scoped>\n",
              "    .dataframe tbody tr th:only-of-type {\n",
              "        vertical-align: middle;\n",
              "    }\n",
              "\n",
              "    .dataframe tbody tr th {\n",
              "        vertical-align: top;\n",
              "    }\n",
              "\n",
              "    .dataframe thead th {\n",
              "        text-align: right;\n",
              "    }\n",
              "</style>\n",
              "<table border=\"1\" class=\"dataframe\">\n",
              "  <thead>\n",
              "    <tr style=\"text-align: right;\">\n",
              "      <th></th>\n",
              "      <th>target</th>\n",
              "    </tr>\n",
              "  </thead>\n",
              "  <tbody>\n",
              "    <tr>\n",
              "      <th>120</th>\n",
              "      <td>0</td>\n",
              "    </tr>\n",
              "    <tr>\n",
              "      <th>26</th>\n",
              "      <td>1</td>\n",
              "    </tr>\n",
              "    <tr>\n",
              "      <th>195</th>\n",
              "      <td>0</td>\n",
              "    </tr>\n",
              "    <tr>\n",
              "      <th>247</th>\n",
              "      <td>2</td>\n",
              "    </tr>\n",
              "    <tr>\n",
              "      <th>158</th>\n",
              "      <td>0</td>\n",
              "    </tr>\n",
              "    <tr>\n",
              "      <th>209</th>\n",
              "      <td>2</td>\n",
              "    </tr>\n",
              "    <tr>\n",
              "      <th>226</th>\n",
              "      <td>2</td>\n",
              "    </tr>\n",
              "    <tr>\n",
              "      <th>296</th>\n",
              "      <td>2</td>\n",
              "    </tr>\n",
              "    <tr>\n",
              "      <th>44</th>\n",
              "      <td>1</td>\n",
              "    </tr>\n",
              "    <tr>\n",
              "      <th>216</th>\n",
              "      <td>2</td>\n",
              "    </tr>\n",
              "    <tr>\n",
              "      <th>201</th>\n",
              "      <td>2</td>\n",
              "    </tr>\n",
              "    <tr>\n",
              "      <th>20</th>\n",
              "      <td>1</td>\n",
              "    </tr>\n",
              "    <tr>\n",
              "      <th>43</th>\n",
              "      <td>1</td>\n",
              "    </tr>\n",
              "    <tr>\n",
              "      <th>285</th>\n",
              "      <td>2</td>\n",
              "    </tr>\n",
              "    <tr>\n",
              "      <th>60</th>\n",
              "      <td>1</td>\n",
              "    </tr>\n",
              "    <tr>\n",
              "      <th>146</th>\n",
              "      <td>0</td>\n",
              "    </tr>\n",
              "    <tr>\n",
              "      <th>8</th>\n",
              "      <td>1</td>\n",
              "    </tr>\n",
              "    <tr>\n",
              "      <th>153</th>\n",
              "      <td>0</td>\n",
              "    </tr>\n",
              "    <tr>\n",
              "      <th>67</th>\n",
              "      <td>1</td>\n",
              "    </tr>\n",
              "    <tr>\n",
              "      <th>72</th>\n",
              "      <td>1</td>\n",
              "    </tr>\n",
              "    <tr>\n",
              "      <th>86</th>\n",
              "      <td>1</td>\n",
              "    </tr>\n",
              "    <tr>\n",
              "      <th>106</th>\n",
              "      <td>0</td>\n",
              "    </tr>\n",
              "    <tr>\n",
              "      <th>13</th>\n",
              "      <td>1</td>\n",
              "    </tr>\n",
              "    <tr>\n",
              "      <th>293</th>\n",
              "      <td>2</td>\n",
              "    </tr>\n",
              "    <tr>\n",
              "      <th>38</th>\n",
              "      <td>1</td>\n",
              "    </tr>\n",
              "    <tr>\n",
              "      <th>280</th>\n",
              "      <td>2</td>\n",
              "    </tr>\n",
              "    <tr>\n",
              "      <th>24</th>\n",
              "      <td>1</td>\n",
              "    </tr>\n",
              "    <tr>\n",
              "      <th>136</th>\n",
              "      <td>0</td>\n",
              "    </tr>\n",
              "    <tr>\n",
              "      <th>200</th>\n",
              "      <td>2</td>\n",
              "    </tr>\n",
              "    <tr>\n",
              "      <th>127</th>\n",
              "      <td>0</td>\n",
              "    </tr>\n",
              "    <tr>\n",
              "      <th>283</th>\n",
              "      <td>2</td>\n",
              "    </tr>\n",
              "    <tr>\n",
              "      <th>246</th>\n",
              "      <td>2</td>\n",
              "    </tr>\n",
              "    <tr>\n",
              "      <th>178</th>\n",
              "      <td>0</td>\n",
              "    </tr>\n",
              "    <tr>\n",
              "      <th>93</th>\n",
              "      <td>1</td>\n",
              "    </tr>\n",
              "    <tr>\n",
              "      <th>204</th>\n",
              "      <td>2</td>\n",
              "    </tr>\n",
              "    <tr>\n",
              "      <th>282</th>\n",
              "      <td>2</td>\n",
              "    </tr>\n",
              "    <tr>\n",
              "      <th>224</th>\n",
              "      <td>2</td>\n",
              "    </tr>\n",
              "    <tr>\n",
              "      <th>229</th>\n",
              "      <td>2</td>\n",
              "    </tr>\n",
              "    <tr>\n",
              "      <th>9</th>\n",
              "      <td>1</td>\n",
              "    </tr>\n",
              "    <tr>\n",
              "      <th>168</th>\n",
              "      <td>0</td>\n",
              "    </tr>\n",
              "    <tr>\n",
              "      <th>115</th>\n",
              "      <td>0</td>\n",
              "    </tr>\n",
              "    <tr>\n",
              "      <th>159</th>\n",
              "      <td>0</td>\n",
              "    </tr>\n",
              "    <tr>\n",
              "      <th>239</th>\n",
              "      <td>2</td>\n",
              "    </tr>\n",
              "    <tr>\n",
              "      <th>33</th>\n",
              "      <td>1</td>\n",
              "    </tr>\n",
              "    <tr>\n",
              "      <th>139</th>\n",
              "      <td>0</td>\n",
              "    </tr>\n",
              "    <tr>\n",
              "      <th>82</th>\n",
              "      <td>1</td>\n",
              "    </tr>\n",
              "    <tr>\n",
              "      <th>107</th>\n",
              "      <td>0</td>\n",
              "    </tr>\n",
              "    <tr>\n",
              "      <th>276</th>\n",
              "      <td>2</td>\n",
              "    </tr>\n",
              "    <tr>\n",
              "      <th>160</th>\n",
              "      <td>0</td>\n",
              "    </tr>\n",
              "    <tr>\n",
              "      <th>270</th>\n",
              "      <td>2</td>\n",
              "    </tr>\n",
              "    <tr>\n",
              "      <th>289</th>\n",
              "      <td>2</td>\n",
              "    </tr>\n",
              "    <tr>\n",
              "      <th>194</th>\n",
              "      <td>0</td>\n",
              "    </tr>\n",
              "    <tr>\n",
              "      <th>91</th>\n",
              "      <td>1</td>\n",
              "    </tr>\n",
              "    <tr>\n",
              "      <th>63</th>\n",
              "      <td>1</td>\n",
              "    </tr>\n",
              "    <tr>\n",
              "      <th>16</th>\n",
              "      <td>1</td>\n",
              "    </tr>\n",
              "    <tr>\n",
              "      <th>281</th>\n",
              "      <td>2</td>\n",
              "    </tr>\n",
              "    <tr>\n",
              "      <th>0</th>\n",
              "      <td>1</td>\n",
              "    </tr>\n",
              "    <tr>\n",
              "      <th>81</th>\n",
              "      <td>1</td>\n",
              "    </tr>\n",
              "    <tr>\n",
              "      <th>61</th>\n",
              "      <td>1</td>\n",
              "    </tr>\n",
              "    <tr>\n",
              "      <th>90</th>\n",
              "      <td>1</td>\n",
              "    </tr>\n",
              "  </tbody>\n",
              "</table>\n",
              "</div>"
            ],
            "text/plain": [
              "     target\n",
              "120       0\n",
              "26        1\n",
              "195       0\n",
              "247       2\n",
              "158       0\n",
              "209       2\n",
              "226       2\n",
              "296       2\n",
              "44        1\n",
              "216       2\n",
              "201       2\n",
              "20        1\n",
              "43        1\n",
              "285       2\n",
              "60        1\n",
              "146       0\n",
              "8         1\n",
              "153       0\n",
              "67        1\n",
              "72        1\n",
              "86        1\n",
              "106       0\n",
              "13        1\n",
              "293       2\n",
              "38        1\n",
              "280       2\n",
              "24        1\n",
              "136       0\n",
              "200       2\n",
              "127       0\n",
              "283       2\n",
              "246       2\n",
              "178       0\n",
              "93        1\n",
              "204       2\n",
              "282       2\n",
              "224       2\n",
              "229       2\n",
              "9         1\n",
              "168       0\n",
              "115       0\n",
              "159       0\n",
              "239       2\n",
              "33        1\n",
              "139       0\n",
              "82        1\n",
              "107       0\n",
              "276       2\n",
              "160       0\n",
              "270       2\n",
              "289       2\n",
              "194       0\n",
              "91        1\n",
              "63        1\n",
              "16        1\n",
              "281       2\n",
              "0         1\n",
              "81        1\n",
              "61        1\n",
              "90        1"
            ]
          },
          "metadata": {
            "tags": []
          },
          "execution_count": 29
        }
      ]
    },
    {
      "cell_type": "code",
      "metadata": {
        "colab": {
          "base_uri": "https://localhost:8080/"
        },
        "id": "JFhGfkt6gCed",
        "outputId": "b055182b-f075-4d3c-f5a6-26097fd43cd4"
      },
      "source": [
        "from sklearn.metrics import accuracy_score\n",
        "print(accuracy_score(y_Test, y_pred))"
      ],
      "execution_count": null,
      "outputs": [
        {
          "output_type": "stream",
          "text": [
            "0.6166666666666667\n"
          ],
          "name": "stdout"
        }
      ]
    },
    {
      "cell_type": "code",
      "metadata": {
        "colab": {
          "base_uri": "https://localhost:8080/"
        },
        "id": "W_zgVASBgE9h",
        "outputId": "8fd7edd0-02cf-4b31-d38c-7a71f0cab281"
      },
      "source": [
        "lr_acc = accuracy_score(y_Test, y_pred)\n",
        "print(lr_acc)"
      ],
      "execution_count": null,
      "outputs": [
        {
          "output_type": "stream",
          "text": [
            "0.6166666666666667\n"
          ],
          "name": "stdout"
        }
      ]
    },
    {
      "cell_type": "code",
      "metadata": {
        "colab": {
          "base_uri": "https://localhost:8080/",
          "height": 107
        },
        "id": "BgMCDZcqgHZj",
        "outputId": "5a8219bb-4bfc-4261-c75a-e9c523e548b5"
      },
      "source": [
        "tempResults = pd.DataFrame({'Algorithm':['Logistic Regression Method'], 'Accuracy':[lr_acc]})\n",
        "results = pd.concat( [results, tempResults] )\n",
        "results = results[['Algorithm','Accuracy']]\n",
        "results"
      ],
      "execution_count": null,
      "outputs": [
        {
          "output_type": "execute_result",
          "data": {
            "text/html": [
              "<div>\n",
              "<style scoped>\n",
              "    .dataframe tbody tr th:only-of-type {\n",
              "        vertical-align: middle;\n",
              "    }\n",
              "\n",
              "    .dataframe tbody tr th {\n",
              "        vertical-align: top;\n",
              "    }\n",
              "\n",
              "    .dataframe thead th {\n",
              "        text-align: right;\n",
              "    }\n",
              "</style>\n",
              "<table border=\"1\" class=\"dataframe\">\n",
              "  <thead>\n",
              "    <tr style=\"text-align: right;\">\n",
              "      <th></th>\n",
              "      <th>Algorithm</th>\n",
              "      <th>Accuracy</th>\n",
              "    </tr>\n",
              "  </thead>\n",
              "  <tbody>\n",
              "    <tr>\n",
              "      <th>0</th>\n",
              "      <td>Decision tree Classifier Method</td>\n",
              "      <td>0.716667</td>\n",
              "    </tr>\n",
              "    <tr>\n",
              "      <th>0</th>\n",
              "      <td>Logistic Regression Method</td>\n",
              "      <td>0.616667</td>\n",
              "    </tr>\n",
              "  </tbody>\n",
              "</table>\n",
              "</div>"
            ],
            "text/plain": [
              "                         Algorithm  Accuracy\n",
              "0  Decision tree Classifier Method  0.716667\n",
              "0       Logistic Regression Method  0.616667"
            ]
          },
          "metadata": {
            "tags": []
          },
          "execution_count": 32
        }
      ]
    },
    {
      "cell_type": "markdown",
      "metadata": {
        "id": "FYAPtjjggNQB"
      },
      "source": [
        "#SVM-Linear"
      ]
    },
    {
      "cell_type": "code",
      "metadata": {
        "id": "UneVXvtNgJgm"
      },
      "source": [
        "from sklearn import svm\n",
        "\n",
        "#Create a svm Classifier\n",
        "clf = svm.SVC(kernel='linear') # Linear Kernel\n",
        "\n",
        "#Train the model using the training sets\n",
        "clf.fit(x_Train, y_Train)\n",
        "\n",
        "#Predict the response for test dataset\n",
        "y_pred = clf.predict(x_Test)"
      ],
      "execution_count": null,
      "outputs": []
    },
    {
      "cell_type": "code",
      "metadata": {
        "colab": {
          "base_uri": "https://localhost:8080/"
        },
        "id": "ay8d81fHgOru",
        "outputId": "804248ec-5a4d-4b76-bd0f-96d3d7d39030"
      },
      "source": [
        "# Making the Confusion Matrix\n",
        "from sklearn.metrics import confusion_matrix\n",
        "cm = confusion_matrix(y_Test, y_pred)\n",
        "cm"
      ],
      "execution_count": null,
      "outputs": [
        {
          "output_type": "execute_result",
          "data": {
            "text/plain": [
              "array([[10,  0,  6],\n",
              "       [ 9,  9,  5],\n",
              "       [ 1,  0, 20]])"
            ]
          },
          "metadata": {
            "tags": []
          },
          "execution_count": 34
        }
      ]
    },
    {
      "cell_type": "code",
      "metadata": {
        "colab": {
          "base_uri": "https://localhost:8080/"
        },
        "id": "xi7Sk4F0gdqY",
        "outputId": "09dafbbe-b286-4d24-e4c8-688c6aec6747"
      },
      "source": [
        "from sklearn.metrics import accuracy_score\n",
        "print(accuracy_score(y_Test,y_pred))"
      ],
      "execution_count": null,
      "outputs": [
        {
          "output_type": "stream",
          "text": [
            "0.65\n"
          ],
          "name": "stdout"
        }
      ]
    },
    {
      "cell_type": "code",
      "metadata": {
        "colab": {
          "base_uri": "https://localhost:8080/"
        },
        "id": "iia-uMC3gfY1",
        "outputId": "591690f1-3ac6-4a7e-aac8-ae040ab1d776"
      },
      "source": [
        "svm_lin_acc = accuracy_score(y_Test,y_pred)\n",
        "print(svm_lin_acc)"
      ],
      "execution_count": null,
      "outputs": [
        {
          "output_type": "stream",
          "text": [
            "0.65\n"
          ],
          "name": "stdout"
        }
      ]
    },
    {
      "cell_type": "code",
      "metadata": {
        "colab": {
          "base_uri": "https://localhost:8080/",
          "height": 137
        },
        "id": "5_cfkQZdgmXJ",
        "outputId": "73408952-d4ea-4d10-b5c5-444834b6d45a"
      },
      "source": [
        "tempResults = pd.DataFrame({'Algorithm':['SVM-Linear Karnel Classifier Method'], 'Accuracy':[svm_lin_acc]})\n",
        "results = pd.concat( [results, tempResults] )\n",
        "results = results[['Algorithm','Accuracy']]\n",
        "results"
      ],
      "execution_count": null,
      "outputs": [
        {
          "output_type": "execute_result",
          "data": {
            "text/html": [
              "<div>\n",
              "<style scoped>\n",
              "    .dataframe tbody tr th:only-of-type {\n",
              "        vertical-align: middle;\n",
              "    }\n",
              "\n",
              "    .dataframe tbody tr th {\n",
              "        vertical-align: top;\n",
              "    }\n",
              "\n",
              "    .dataframe thead th {\n",
              "        text-align: right;\n",
              "    }\n",
              "</style>\n",
              "<table border=\"1\" class=\"dataframe\">\n",
              "  <thead>\n",
              "    <tr style=\"text-align: right;\">\n",
              "      <th></th>\n",
              "      <th>Algorithm</th>\n",
              "      <th>Accuracy</th>\n",
              "    </tr>\n",
              "  </thead>\n",
              "  <tbody>\n",
              "    <tr>\n",
              "      <th>0</th>\n",
              "      <td>Decision tree Classifier Method</td>\n",
              "      <td>0.716667</td>\n",
              "    </tr>\n",
              "    <tr>\n",
              "      <th>0</th>\n",
              "      <td>Logistic Regression Method</td>\n",
              "      <td>0.616667</td>\n",
              "    </tr>\n",
              "    <tr>\n",
              "      <th>0</th>\n",
              "      <td>SVM-Linear Karnel Classifier Method</td>\n",
              "      <td>0.650000</td>\n",
              "    </tr>\n",
              "  </tbody>\n",
              "</table>\n",
              "</div>"
            ],
            "text/plain": [
              "                             Algorithm  Accuracy\n",
              "0      Decision tree Classifier Method  0.716667\n",
              "0           Logistic Regression Method  0.616667\n",
              "0  SVM-Linear Karnel Classifier Method  0.650000"
            ]
          },
          "metadata": {
            "tags": []
          },
          "execution_count": 37
        }
      ]
    },
    {
      "cell_type": "markdown",
      "metadata": {
        "id": "XIHgw_NYgrZ4"
      },
      "source": [
        "#KNN"
      ]
    },
    {
      "cell_type": "code",
      "metadata": {
        "colab": {
          "base_uri": "https://localhost:8080/"
        },
        "id": "apF9ZLqTgo_o",
        "outputId": "393385e8-cc28-487b-932c-2bd330b0c031"
      },
      "source": [
        "\n",
        "from sklearn.model_selection import GridSearchCV\n",
        "from sklearn.neighbors import KNeighborsClassifier\n",
        "#making the instance\n",
        "model = KNeighborsClassifier(n_jobs=-1)\n",
        "#Hyper Parameters Set\n",
        "params = {'n_neighbors':[5,6,7,8,9,10],\n",
        "          'leaf_size':[1,2,3,4,5],\n",
        "          'weights':['uniform', 'distance'],\n",
        "          'algorithm':['auto', 'ball_tree','kd_tree','brute'],\n",
        "          'n_jobs':[-1]}\n",
        "#Making models with hyper parameters sets\n",
        "model1 = GridSearchCV(model, param_grid=params, n_jobs=1)\n",
        "#Learning\n",
        "model1.fit(x_Train, y_Train)\n",
        "#The best hyper parameters set\n",
        "print(\"Best Hyper Parameters:\\n\",model1.best_params_)"
      ],
      "execution_count": null,
      "outputs": [
        {
          "output_type": "stream",
          "text": [
            "Best Hyper Parameters:\n",
            " {'algorithm': 'auto', 'leaf_size': 1, 'n_jobs': -1, 'n_neighbors': 5, 'weights': 'distance'}\n"
          ],
          "name": "stdout"
        }
      ]
    },
    {
      "cell_type": "code",
      "metadata": {
        "id": "_YhHRy_Xg-K-"
      },
      "source": [
        "# Predicting the Test set results\n",
        "y_pred = model1.predict(x_Test)"
      ],
      "execution_count": null,
      "outputs": []
    },
    {
      "cell_type": "code",
      "metadata": {
        "colab": {
          "base_uri": "https://localhost:8080/"
        },
        "id": "vbOTwOKchMLG",
        "outputId": "5b8cbaa6-889b-4e16-8330-5b03408be909"
      },
      "source": [
        "# Making the Confusion Matrix\n",
        "from sklearn.metrics import confusion_matrix\n",
        "cm = confusion_matrix(y_Test, y_pred)\n",
        "cm"
      ],
      "execution_count": null,
      "outputs": [
        {
          "output_type": "execute_result",
          "data": {
            "text/plain": [
              "array([[ 0,  0, 16],\n",
              "       [ 2,  4, 17],\n",
              "       [ 0,  0, 21]])"
            ]
          },
          "metadata": {
            "tags": []
          },
          "execution_count": 40
        }
      ]
    },
    {
      "cell_type": "code",
      "metadata": {
        "colab": {
          "base_uri": "https://localhost:8080/"
        },
        "id": "VeXJaWX4hORn",
        "outputId": "f8cd947f-8a75-4555-e76a-b5a9abd84f58"
      },
      "source": [
        "from sklearn.metrics import accuracy_score\n",
        "print(accuracy_score(y_Test, y_pred))"
      ],
      "execution_count": null,
      "outputs": [
        {
          "output_type": "stream",
          "text": [
            "0.4166666666666667\n"
          ],
          "name": "stdout"
        }
      ]
    },
    {
      "cell_type": "code",
      "metadata": {
        "colab": {
          "base_uri": "https://localhost:8080/"
        },
        "id": "1UJ4UtwWhQ3Z",
        "outputId": "16aebe42-3fcf-4d24-b17d-8761ec0687b5"
      },
      "source": [
        "knn_acc = accuracy_score(y_Test, y_pred)\n",
        "print(knn_acc)"
      ],
      "execution_count": null,
      "outputs": [
        {
          "output_type": "stream",
          "text": [
            "0.4166666666666667\n"
          ],
          "name": "stdout"
        }
      ]
    },
    {
      "cell_type": "code",
      "metadata": {
        "colab": {
          "base_uri": "https://localhost:8080/",
          "height": 167
        },
        "id": "2vKXjUsUhSf_",
        "outputId": "0e23ea91-7ac1-4118-e121-ef91deab39ed"
      },
      "source": [
        "tempResults = pd.DataFrame({'Algorithm':['KNN Classifier Method'], 'Accuracy':[knn_acc]})\n",
        "results = pd.concat( [results, tempResults] )\n",
        "results = results[['Algorithm','Accuracy']]\n",
        "results"
      ],
      "execution_count": null,
      "outputs": [
        {
          "output_type": "execute_result",
          "data": {
            "text/html": [
              "<div>\n",
              "<style scoped>\n",
              "    .dataframe tbody tr th:only-of-type {\n",
              "        vertical-align: middle;\n",
              "    }\n",
              "\n",
              "    .dataframe tbody tr th {\n",
              "        vertical-align: top;\n",
              "    }\n",
              "\n",
              "    .dataframe thead th {\n",
              "        text-align: right;\n",
              "    }\n",
              "</style>\n",
              "<table border=\"1\" class=\"dataframe\">\n",
              "  <thead>\n",
              "    <tr style=\"text-align: right;\">\n",
              "      <th></th>\n",
              "      <th>Algorithm</th>\n",
              "      <th>Accuracy</th>\n",
              "    </tr>\n",
              "  </thead>\n",
              "  <tbody>\n",
              "    <tr>\n",
              "      <th>0</th>\n",
              "      <td>Decision tree Classifier Method</td>\n",
              "      <td>0.716667</td>\n",
              "    </tr>\n",
              "    <tr>\n",
              "      <th>0</th>\n",
              "      <td>Logistic Regression Method</td>\n",
              "      <td>0.616667</td>\n",
              "    </tr>\n",
              "    <tr>\n",
              "      <th>0</th>\n",
              "      <td>SVM-Linear Karnel Classifier Method</td>\n",
              "      <td>0.650000</td>\n",
              "    </tr>\n",
              "    <tr>\n",
              "      <th>0</th>\n",
              "      <td>KNN Classifier Method</td>\n",
              "      <td>0.416667</td>\n",
              "    </tr>\n",
              "  </tbody>\n",
              "</table>\n",
              "</div>"
            ],
            "text/plain": [
              "                             Algorithm  Accuracy\n",
              "0      Decision tree Classifier Method  0.716667\n",
              "0           Logistic Regression Method  0.616667\n",
              "0  SVM-Linear Karnel Classifier Method  0.650000\n",
              "0                KNN Classifier Method  0.416667"
            ]
          },
          "metadata": {
            "tags": []
          },
          "execution_count": 43
        }
      ]
    },
    {
      "cell_type": "markdown",
      "metadata": {
        "id": "77M0remPOQ61"
      },
      "source": [
        "##RandomForest"
      ]
    },
    {
      "cell_type": "code",
      "metadata": {
        "colab": {
          "base_uri": "https://localhost:8080/"
        },
        "id": "ZtHtFWkPhUaR",
        "outputId": "e3f83131-0daa-44af-cf05-e0102db30767"
      },
      "source": [
        " from sklearn.ensemble import RandomForestClassifier\n",
        " from sklearn.datasets import make_classification\n",
        "xTrain, yTrain = make_classification(n_samples=1000, n_features=4097,\n",
        "                            n_informative=2, n_redundant=0,\n",
        "                            random_state=0, shuffle=False)\n",
        "clf = RandomForestClassifier(max_depth=2, random_state=0)\n",
        "clf.fit(xTrain, yTrain)\n",
        "RandomForestClassifier(...)\n"
      ],
      "execution_count": null,
      "outputs": [
        {
          "output_type": "execute_result",
          "data": {
            "text/plain": [
              "RandomForestClassifier(bootstrap=True, ccp_alpha=0.0, class_weight=None,\n",
              "                       criterion='gini', max_depth=None, max_features='auto',\n",
              "                       max_leaf_nodes=None, max_samples=None,\n",
              "                       min_impurity_decrease=0.0, min_impurity_split=None,\n",
              "                       min_samples_leaf=1, min_samples_split=2,\n",
              "                       min_weight_fraction_leaf=0.0, n_estimators=Ellipsis,\n",
              "                       n_jobs=None, oob_score=False, random_state=None,\n",
              "                       verbose=0, warm_start=False)"
            ]
          },
          "metadata": {
            "tags": []
          },
          "execution_count": 44
        }
      ]
    },
    {
      "cell_type": "code",
      "metadata": {
        "colab": {
          "base_uri": "https://localhost:8080/"
        },
        "id": "ETIHizO-habf",
        "outputId": "56f8f4fc-fa93-40a9-be13-a13e0a06b15c"
      },
      "source": [
        "RandomForestClassifier(max_depth=2, random_state=0)\n",
        "print(clf.feature_importances_)"
      ],
      "execution_count": null,
      "outputs": [
        {
          "output_type": "stream",
          "text": [
            "[0.00878617 0.01414803 0.         ... 0.         0.         0.        ]\n"
          ],
          "name": "stdout"
        }
      ]
    },
    {
      "cell_type": "code",
      "metadata": {
        "colab": {
          "base_uri": "https://localhost:8080/"
        },
        "id": "ldf9zuCwhcd0",
        "outputId": "93fb02b9-e392-4f32-98bf-587566b21367"
      },
      "source": [
        "y_pred = clf.predict(x_Test)\n",
        "y_pred"
      ],
      "execution_count": null,
      "outputs": [
        {
          "output_type": "execute_result",
          "data": {
            "text/plain": [
              "array([0, 0, 0, 1, 1, 1, 1, 0, 0, 0, 0, 1, 0, 0, 0, 0, 1, 1, 0, 0, 0, 0,\n",
              "       1, 0, 0, 0, 1, 0, 1, 0, 0, 0, 0, 0, 0, 1, 1, 1, 1, 1, 1, 1, 0, 1,\n",
              "       0, 0, 1, 0, 0, 1, 0, 1, 0, 0, 1, 0, 1, 0, 1, 0])"
            ]
          },
          "metadata": {
            "tags": []
          },
          "execution_count": 46
        }
      ]
    },
    {
      "cell_type": "code",
      "metadata": {
        "colab": {
          "base_uri": "https://localhost:8080/"
        },
        "id": "xSn3sSL8heEh",
        "outputId": "44691506-cf34-449c-87bb-ffd048948e6a"
      },
      "source": [
        "accuracy_score(y_Test, y_pred)"
      ],
      "execution_count": null,
      "outputs": [
        {
          "output_type": "execute_result",
          "data": {
            "text/plain": [
              "0.3"
            ]
          },
          "metadata": {
            "tags": []
          },
          "execution_count": 47
        }
      ]
    },
    {
      "cell_type": "code",
      "metadata": {
        "colab": {
          "base_uri": "https://localhost:8080/"
        },
        "id": "F1_n55phhgQY",
        "outputId": "b0d03ab6-8c2a-45d8-8868-18a2b96226f2"
      },
      "source": [
        "rfc_acc = accuracy_score(y_Test,y_pred)\n",
        "print(rfc_acc)"
      ],
      "execution_count": null,
      "outputs": [
        {
          "output_type": "stream",
          "text": [
            "0.3\n"
          ],
          "name": "stdout"
        }
      ]
    },
    {
      "cell_type": "code",
      "metadata": {
        "colab": {
          "base_uri": "https://localhost:8080/",
          "height": 197
        },
        "id": "n8MZ01QGhiSF",
        "outputId": "55d59491-7c78-44a2-c059-fd7d47dc2924"
      },
      "source": [
        "tempResults = pd.DataFrame({'Algorithm':['Random Forest Classifier Method'], 'Accuracy':[rfc_acc]})\n",
        "results = pd.concat( [results, tempResults] )\n",
        "results = results[['Algorithm','Accuracy']]\n",
        "results"
      ],
      "execution_count": null,
      "outputs": [
        {
          "output_type": "execute_result",
          "data": {
            "text/html": [
              "<div>\n",
              "<style scoped>\n",
              "    .dataframe tbody tr th:only-of-type {\n",
              "        vertical-align: middle;\n",
              "    }\n",
              "\n",
              "    .dataframe tbody tr th {\n",
              "        vertical-align: top;\n",
              "    }\n",
              "\n",
              "    .dataframe thead th {\n",
              "        text-align: right;\n",
              "    }\n",
              "</style>\n",
              "<table border=\"1\" class=\"dataframe\">\n",
              "  <thead>\n",
              "    <tr style=\"text-align: right;\">\n",
              "      <th></th>\n",
              "      <th>Algorithm</th>\n",
              "      <th>Accuracy</th>\n",
              "    </tr>\n",
              "  </thead>\n",
              "  <tbody>\n",
              "    <tr>\n",
              "      <th>0</th>\n",
              "      <td>Decision tree Classifier Method</td>\n",
              "      <td>0.716667</td>\n",
              "    </tr>\n",
              "    <tr>\n",
              "      <th>0</th>\n",
              "      <td>Logistic Regression Method</td>\n",
              "      <td>0.616667</td>\n",
              "    </tr>\n",
              "    <tr>\n",
              "      <th>0</th>\n",
              "      <td>SVM-Linear Karnel Classifier Method</td>\n",
              "      <td>0.650000</td>\n",
              "    </tr>\n",
              "    <tr>\n",
              "      <th>0</th>\n",
              "      <td>KNN Classifier Method</td>\n",
              "      <td>0.416667</td>\n",
              "    </tr>\n",
              "    <tr>\n",
              "      <th>0</th>\n",
              "      <td>Random Forest Classifier Method</td>\n",
              "      <td>0.300000</td>\n",
              "    </tr>\n",
              "  </tbody>\n",
              "</table>\n",
              "</div>"
            ],
            "text/plain": [
              "                             Algorithm  Accuracy\n",
              "0      Decision tree Classifier Method  0.716667\n",
              "0           Logistic Regression Method  0.616667\n",
              "0  SVM-Linear Karnel Classifier Method  0.650000\n",
              "0                KNN Classifier Method  0.416667\n",
              "0      Random Forest Classifier Method  0.300000"
            ]
          },
          "metadata": {
            "tags": []
          },
          "execution_count": 49
        }
      ]
    },
    {
      "cell_type": "markdown",
      "metadata": {
        "id": "y62k3_7uz_f0"
      },
      "source": [
        "#XGBoost"
      ]
    },
    {
      "cell_type": "code",
      "metadata": {
        "id": "M7YQnjNaAqwl"
      },
      "source": [
        "from sklearn.model_selection import train_test_split\n",
        "x_Train,x_Test,y_Train,y_Test =train_test_split(x,y,train_size =.7, random_state = 4242)"
      ],
      "execution_count": 16,
      "outputs": []
    },
    {
      "cell_type": "code",
      "metadata": {
        "id": "YowhblZz9m8f"
      },
      "source": [
        "import numpy as np\n",
        "from sklearn.datasets import load_svmlight_files\n",
        "from sklearn.metrics import accuracy_score\n",
        "\n",
        "from xgboost.sklearn import XGBClassifier\n",
        "import xgboost as xgb"
      ],
      "execution_count": 17,
      "outputs": []
    },
    {
      "cell_type": "code",
      "metadata": {
        "colab": {
          "base_uri": "https://localhost:8080/"
        },
        "id": "BlFI1Dh7akNy",
        "outputId": "275c7969-e42e-4012-e217-af2f6ef8d4ee"
      },
      "source": [
        "xgb_model = xgb.XGBClassifier(objective=\"multi:softprob\", random_state=42)\n",
        "xgb_model.fit(x_Train, y_Train)\n",
        "\n",
        "y_pred = xgb_model.predict(x_Test)\n",
        "\n",
        "print(confusion_matrix(y_Test, y_pred))"
      ],
      "execution_count": 18,
      "outputs": [
        {
          "output_type": "stream",
          "text": [
            "[[16  0 13]\n",
            " [ 3 26  1]\n",
            " [ 4  0 27]]\n"
          ],
          "name": "stdout"
        }
      ]
    },
    {
      "cell_type": "code",
      "metadata": {
        "colab": {
          "base_uri": "https://localhost:8080/",
          "height": 387
        },
        "id": "8ArDDr-EGNPF",
        "outputId": "3b4a9a81-6e7a-4184-f929-5f3b95835ef7"
      },
      "source": [
        "\n",
        "x_Train, x_valid, y_Train, y_valid = train_test_split(x_Train, y_Train, test_size=0.3, random_state=4242)\n",
        "x_Train = xgb.DMatrix(x_Train, label=y_Train)\n",
        "y_valid = xgb.DMatrix(x_valid, label=y_valid)\n",
        "watchlist = [(y_valid,'eval'),(x_Train,'train')]\n",
        "clf = xgb.train(x_Train, 200, watchlist, early_stopping_rounds=50, verbose_eval=True)"
      ],
      "execution_count": null,
      "outputs": [
        {
          "output_type": "error",
          "ename": "TypeError",
          "evalue": "ignored",
          "traceback": [
            "\u001b[0;31m---------------------------------------------------------------------------\u001b[0m",
            "\u001b[0;31mTypeError\u001b[0m                                 Traceback (most recent call last)",
            "\u001b[0;32m<ipython-input-22-acb2b81b24f5>\u001b[0m in \u001b[0;36m<module>\u001b[0;34m()\u001b[0m\n\u001b[1;32m      1\u001b[0m \u001b[0;34m\u001b[0m\u001b[0m\n\u001b[0;32m----> 2\u001b[0;31m \u001b[0mx_Train\u001b[0m\u001b[0;34m,\u001b[0m \u001b[0mx_valid\u001b[0m\u001b[0;34m,\u001b[0m \u001b[0my_Train\u001b[0m\u001b[0;34m,\u001b[0m \u001b[0my_valid\u001b[0m \u001b[0;34m=\u001b[0m \u001b[0mtrain_test_split\u001b[0m\u001b[0;34m(\u001b[0m\u001b[0mx_Train\u001b[0m\u001b[0;34m,\u001b[0m \u001b[0my_Train\u001b[0m\u001b[0;34m,\u001b[0m \u001b[0mtest_size\u001b[0m\u001b[0;34m=\u001b[0m\u001b[0;36m0.3\u001b[0m\u001b[0;34m,\u001b[0m \u001b[0mrandom_state\u001b[0m\u001b[0;34m=\u001b[0m\u001b[0;36m4242\u001b[0m\u001b[0;34m)\u001b[0m\u001b[0;34m\u001b[0m\u001b[0;34m\u001b[0m\u001b[0m\n\u001b[0m\u001b[1;32m      3\u001b[0m \u001b[0mx_Train\u001b[0m \u001b[0;34m=\u001b[0m \u001b[0mxgb\u001b[0m\u001b[0;34m.\u001b[0m\u001b[0mDMatrix\u001b[0m\u001b[0;34m(\u001b[0m\u001b[0mx_Train\u001b[0m\u001b[0;34m,\u001b[0m \u001b[0mlabel\u001b[0m\u001b[0;34m=\u001b[0m\u001b[0my_Train\u001b[0m\u001b[0;34m)\u001b[0m\u001b[0;34m\u001b[0m\u001b[0;34m\u001b[0m\u001b[0m\n\u001b[1;32m      4\u001b[0m \u001b[0my_valid\u001b[0m \u001b[0;34m=\u001b[0m \u001b[0mxgb\u001b[0m\u001b[0;34m.\u001b[0m\u001b[0mDMatrix\u001b[0m\u001b[0;34m(\u001b[0m\u001b[0mx_valid\u001b[0m\u001b[0;34m,\u001b[0m \u001b[0mlabel\u001b[0m\u001b[0;34m=\u001b[0m\u001b[0my_valid\u001b[0m\u001b[0;34m)\u001b[0m\u001b[0;34m\u001b[0m\u001b[0;34m\u001b[0m\u001b[0m\n\u001b[1;32m      5\u001b[0m \u001b[0mwatchlist\u001b[0m \u001b[0;34m=\u001b[0m \u001b[0;34m[\u001b[0m\u001b[0;34m(\u001b[0m\u001b[0my_valid\u001b[0m\u001b[0;34m,\u001b[0m\u001b[0;34m'eval'\u001b[0m\u001b[0;34m)\u001b[0m\u001b[0;34m,\u001b[0m\u001b[0;34m(\u001b[0m\u001b[0mx_Train\u001b[0m\u001b[0;34m,\u001b[0m\u001b[0;34m'train'\u001b[0m\u001b[0;34m)\u001b[0m\u001b[0;34m]\u001b[0m\u001b[0;34m\u001b[0m\u001b[0;34m\u001b[0m\u001b[0m\n",
            "\u001b[0;32m/usr/local/lib/python3.7/dist-packages/sklearn/model_selection/_split.py\u001b[0m in \u001b[0;36mtrain_test_split\u001b[0;34m(*arrays, **options)\u001b[0m\n\u001b[1;32m   2116\u001b[0m         \u001b[0;32mraise\u001b[0m \u001b[0mTypeError\u001b[0m\u001b[0;34m(\u001b[0m\u001b[0;34m\"Invalid parameters passed: %s\"\u001b[0m \u001b[0;34m%\u001b[0m \u001b[0mstr\u001b[0m\u001b[0;34m(\u001b[0m\u001b[0moptions\u001b[0m\u001b[0;34m)\u001b[0m\u001b[0;34m)\u001b[0m\u001b[0;34m\u001b[0m\u001b[0;34m\u001b[0m\u001b[0m\n\u001b[1;32m   2117\u001b[0m \u001b[0;34m\u001b[0m\u001b[0m\n\u001b[0;32m-> 2118\u001b[0;31m     \u001b[0marrays\u001b[0m \u001b[0;34m=\u001b[0m \u001b[0mindexable\u001b[0m\u001b[0;34m(\u001b[0m\u001b[0;34m*\u001b[0m\u001b[0marrays\u001b[0m\u001b[0;34m)\u001b[0m\u001b[0;34m\u001b[0m\u001b[0;34m\u001b[0m\u001b[0m\n\u001b[0m\u001b[1;32m   2119\u001b[0m \u001b[0;34m\u001b[0m\u001b[0m\n\u001b[1;32m   2120\u001b[0m     \u001b[0mn_samples\u001b[0m \u001b[0;34m=\u001b[0m \u001b[0m_num_samples\u001b[0m\u001b[0;34m(\u001b[0m\u001b[0marrays\u001b[0m\u001b[0;34m[\u001b[0m\u001b[0;36m0\u001b[0m\u001b[0;34m]\u001b[0m\u001b[0;34m)\u001b[0m\u001b[0;34m\u001b[0m\u001b[0;34m\u001b[0m\u001b[0m\n",
            "\u001b[0;32m/usr/local/lib/python3.7/dist-packages/sklearn/utils/validation.py\u001b[0m in \u001b[0;36mindexable\u001b[0;34m(*iterables)\u001b[0m\n\u001b[1;32m    246\u001b[0m     \"\"\"\n\u001b[1;32m    247\u001b[0m     \u001b[0mresult\u001b[0m \u001b[0;34m=\u001b[0m \u001b[0;34m[\u001b[0m\u001b[0m_make_indexable\u001b[0m\u001b[0;34m(\u001b[0m\u001b[0mX\u001b[0m\u001b[0;34m)\u001b[0m \u001b[0;32mfor\u001b[0m \u001b[0mX\u001b[0m \u001b[0;32min\u001b[0m \u001b[0miterables\u001b[0m\u001b[0;34m]\u001b[0m\u001b[0;34m\u001b[0m\u001b[0;34m\u001b[0m\u001b[0m\n\u001b[0;32m--> 248\u001b[0;31m     \u001b[0mcheck_consistent_length\u001b[0m\u001b[0;34m(\u001b[0m\u001b[0;34m*\u001b[0m\u001b[0mresult\u001b[0m\u001b[0;34m)\u001b[0m\u001b[0;34m\u001b[0m\u001b[0;34m\u001b[0m\u001b[0m\n\u001b[0m\u001b[1;32m    249\u001b[0m     \u001b[0;32mreturn\u001b[0m \u001b[0mresult\u001b[0m\u001b[0;34m\u001b[0m\u001b[0;34m\u001b[0m\u001b[0m\n\u001b[1;32m    250\u001b[0m \u001b[0;34m\u001b[0m\u001b[0m\n",
            "\u001b[0;32m/usr/local/lib/python3.7/dist-packages/sklearn/utils/validation.py\u001b[0m in \u001b[0;36mcheck_consistent_length\u001b[0;34m(*arrays)\u001b[0m\n\u001b[1;32m    206\u001b[0m     \"\"\"\n\u001b[1;32m    207\u001b[0m \u001b[0;34m\u001b[0m\u001b[0m\n\u001b[0;32m--> 208\u001b[0;31m     \u001b[0mlengths\u001b[0m \u001b[0;34m=\u001b[0m \u001b[0;34m[\u001b[0m\u001b[0m_num_samples\u001b[0m\u001b[0;34m(\u001b[0m\u001b[0mX\u001b[0m\u001b[0;34m)\u001b[0m \u001b[0;32mfor\u001b[0m \u001b[0mX\u001b[0m \u001b[0;32min\u001b[0m \u001b[0marrays\u001b[0m \u001b[0;32mif\u001b[0m \u001b[0mX\u001b[0m \u001b[0;32mis\u001b[0m \u001b[0;32mnot\u001b[0m \u001b[0;32mNone\u001b[0m\u001b[0;34m]\u001b[0m\u001b[0;34m\u001b[0m\u001b[0;34m\u001b[0m\u001b[0m\n\u001b[0m\u001b[1;32m    209\u001b[0m     \u001b[0muniques\u001b[0m \u001b[0;34m=\u001b[0m \u001b[0mnp\u001b[0m\u001b[0;34m.\u001b[0m\u001b[0munique\u001b[0m\u001b[0;34m(\u001b[0m\u001b[0mlengths\u001b[0m\u001b[0;34m)\u001b[0m\u001b[0;34m\u001b[0m\u001b[0;34m\u001b[0m\u001b[0m\n\u001b[1;32m    210\u001b[0m     \u001b[0;32mif\u001b[0m \u001b[0mlen\u001b[0m\u001b[0;34m(\u001b[0m\u001b[0muniques\u001b[0m\u001b[0;34m)\u001b[0m \u001b[0;34m>\u001b[0m \u001b[0;36m1\u001b[0m\u001b[0;34m:\u001b[0m\u001b[0;34m\u001b[0m\u001b[0;34m\u001b[0m\u001b[0m\n",
            "\u001b[0;32m/usr/local/lib/python3.7/dist-packages/sklearn/utils/validation.py\u001b[0m in \u001b[0;36m<listcomp>\u001b[0;34m(.0)\u001b[0m\n\u001b[1;32m    206\u001b[0m     \"\"\"\n\u001b[1;32m    207\u001b[0m \u001b[0;34m\u001b[0m\u001b[0m\n\u001b[0;32m--> 208\u001b[0;31m     \u001b[0mlengths\u001b[0m \u001b[0;34m=\u001b[0m \u001b[0;34m[\u001b[0m\u001b[0m_num_samples\u001b[0m\u001b[0;34m(\u001b[0m\u001b[0mX\u001b[0m\u001b[0;34m)\u001b[0m \u001b[0;32mfor\u001b[0m \u001b[0mX\u001b[0m \u001b[0;32min\u001b[0m \u001b[0marrays\u001b[0m \u001b[0;32mif\u001b[0m \u001b[0mX\u001b[0m \u001b[0;32mis\u001b[0m \u001b[0;32mnot\u001b[0m \u001b[0;32mNone\u001b[0m\u001b[0;34m]\u001b[0m\u001b[0;34m\u001b[0m\u001b[0;34m\u001b[0m\u001b[0m\n\u001b[0m\u001b[1;32m    209\u001b[0m     \u001b[0muniques\u001b[0m \u001b[0;34m=\u001b[0m \u001b[0mnp\u001b[0m\u001b[0;34m.\u001b[0m\u001b[0munique\u001b[0m\u001b[0;34m(\u001b[0m\u001b[0mlengths\u001b[0m\u001b[0;34m)\u001b[0m\u001b[0;34m\u001b[0m\u001b[0;34m\u001b[0m\u001b[0m\n\u001b[1;32m    210\u001b[0m     \u001b[0;32mif\u001b[0m \u001b[0mlen\u001b[0m\u001b[0;34m(\u001b[0m\u001b[0muniques\u001b[0m\u001b[0;34m)\u001b[0m \u001b[0;34m>\u001b[0m \u001b[0;36m1\u001b[0m\u001b[0;34m:\u001b[0m\u001b[0;34m\u001b[0m\u001b[0;34m\u001b[0m\u001b[0m\n",
            "\u001b[0;32m/usr/local/lib/python3.7/dist-packages/sklearn/utils/validation.py\u001b[0m in \u001b[0;36m_num_samples\u001b[0;34m(x)\u001b[0m\n\u001b[1;32m    150\u001b[0m         \u001b[0;32mif\u001b[0m \u001b[0mlen\u001b[0m\u001b[0;34m(\u001b[0m\u001b[0mx\u001b[0m\u001b[0;34m.\u001b[0m\u001b[0mshape\u001b[0m\u001b[0;34m)\u001b[0m \u001b[0;34m==\u001b[0m \u001b[0;36m0\u001b[0m\u001b[0;34m:\u001b[0m\u001b[0;34m\u001b[0m\u001b[0;34m\u001b[0m\u001b[0m\n\u001b[1;32m    151\u001b[0m             raise TypeError(\"Singleton array %r cannot be considered\"\n\u001b[0;32m--> 152\u001b[0;31m                             \" a valid collection.\" % x)\n\u001b[0m\u001b[1;32m    153\u001b[0m         \u001b[0;31m# Check that shape is returning an integer or default to len\u001b[0m\u001b[0;34m\u001b[0m\u001b[0;34m\u001b[0m\u001b[0;34m\u001b[0m\u001b[0m\n\u001b[1;32m    154\u001b[0m         \u001b[0;31m# Dask dataframes may not return numeric shape[0] value\u001b[0m\u001b[0;34m\u001b[0m\u001b[0;34m\u001b[0m\u001b[0;34m\u001b[0m\u001b[0m\n",
            "\u001b[0;31mTypeError\u001b[0m: Singleton array array(<xgboost.core.DMatrix object at 0x7fe1b15da790>, dtype=object) cannot be considered a valid collection."
          ]
        }
      ]
    },
    {
      "cell_type": "code",
      "metadata": {
        "colab": {
          "base_uri": "https://localhost:8080/",
          "height": 387
        },
        "id": "9kRyRjGPIT8e",
        "outputId": "a541ed5d-095a-4579-aae7-a3908d7259dc"
      },
      "source": [
        "params = {}\n",
        "params['objective'] = 'multi:softprob'\n",
        "params['eval_metric'] = 'map@5'\n",
        "params['num_class'] = 100\n",
        "params['tree_method'] = 'exact'\n",
        "params['silent'] = 0\n",
        "\n",
        "x_Train, x_valid, y_Train, y_valid = train_test_split(x_Train, y_Train, test_size=0.9, random_state=4500)\n",
        "d_train = xgb.DMatrix(x_Train, label=y_Train)\n",
        "d_valid = xgb.DMatrix(x_valid, label=y_valid)\n",
        "watchlist = [(d_valid,'eval'),(d_train,'train')]\n",
        "clf = xgb.train(params, d_train, 200, watchlist, early_stopping_rounds=50, verbose_eval=True)"
      ],
      "execution_count": null,
      "outputs": [
        {
          "output_type": "error",
          "ename": "ValueError",
          "evalue": "ignored",
          "traceback": [
            "\u001b[0;31m---------------------------------------------------------------------------\u001b[0m",
            "\u001b[0;31mValueError\u001b[0m                                Traceback (most recent call last)",
            "\u001b[0;32m<ipython-input-34-2f97da86441b>\u001b[0m in \u001b[0;36m<module>\u001b[0;34m()\u001b[0m\n\u001b[1;32m      6\u001b[0m \u001b[0mparams\u001b[0m\u001b[0;34m[\u001b[0m\u001b[0;34m'silent'\u001b[0m\u001b[0;34m]\u001b[0m \u001b[0;34m=\u001b[0m \u001b[0;36m0\u001b[0m\u001b[0;34m\u001b[0m\u001b[0;34m\u001b[0m\u001b[0m\n\u001b[1;32m      7\u001b[0m \u001b[0;34m\u001b[0m\u001b[0m\n\u001b[0;32m----> 8\u001b[0;31m \u001b[0mx_Train\u001b[0m\u001b[0;34m,\u001b[0m \u001b[0mx_valid\u001b[0m\u001b[0;34m,\u001b[0m \u001b[0my_Train\u001b[0m\u001b[0;34m,\u001b[0m \u001b[0my_valid\u001b[0m \u001b[0;34m=\u001b[0m \u001b[0mtrain_test_split\u001b[0m\u001b[0;34m(\u001b[0m\u001b[0mx_Train\u001b[0m\u001b[0;34m,\u001b[0m \u001b[0my_Train\u001b[0m\u001b[0;34m,\u001b[0m \u001b[0mtest_size\u001b[0m\u001b[0;34m=\u001b[0m\u001b[0;36m0.9\u001b[0m\u001b[0;34m,\u001b[0m \u001b[0mrandom_state\u001b[0m\u001b[0;34m=\u001b[0m\u001b[0;36m4500\u001b[0m\u001b[0;34m)\u001b[0m\u001b[0;34m\u001b[0m\u001b[0;34m\u001b[0m\u001b[0m\n\u001b[0m\u001b[1;32m      9\u001b[0m \u001b[0md_train\u001b[0m \u001b[0;34m=\u001b[0m \u001b[0mxgb\u001b[0m\u001b[0;34m.\u001b[0m\u001b[0mDMatrix\u001b[0m\u001b[0;34m(\u001b[0m\u001b[0mx_Train\u001b[0m\u001b[0;34m,\u001b[0m \u001b[0mlabel\u001b[0m\u001b[0;34m=\u001b[0m\u001b[0my_Train\u001b[0m\u001b[0;34m)\u001b[0m\u001b[0;34m\u001b[0m\u001b[0;34m\u001b[0m\u001b[0m\n\u001b[1;32m     10\u001b[0m \u001b[0md_valid\u001b[0m \u001b[0;34m=\u001b[0m \u001b[0mxgb\u001b[0m\u001b[0;34m.\u001b[0m\u001b[0mDMatrix\u001b[0m\u001b[0;34m(\u001b[0m\u001b[0mx_valid\u001b[0m\u001b[0;34m,\u001b[0m \u001b[0mlabel\u001b[0m\u001b[0;34m=\u001b[0m\u001b[0my_valid\u001b[0m\u001b[0;34m)\u001b[0m\u001b[0;34m\u001b[0m\u001b[0;34m\u001b[0m\u001b[0m\n",
            "\u001b[0;32m/usr/local/lib/python3.7/dist-packages/sklearn/model_selection/_split.py\u001b[0m in \u001b[0;36mtrain_test_split\u001b[0;34m(*arrays, **options)\u001b[0m\n\u001b[1;32m   2120\u001b[0m     \u001b[0mn_samples\u001b[0m \u001b[0;34m=\u001b[0m \u001b[0m_num_samples\u001b[0m\u001b[0;34m(\u001b[0m\u001b[0marrays\u001b[0m\u001b[0;34m[\u001b[0m\u001b[0;36m0\u001b[0m\u001b[0;34m]\u001b[0m\u001b[0;34m)\u001b[0m\u001b[0;34m\u001b[0m\u001b[0;34m\u001b[0m\u001b[0m\n\u001b[1;32m   2121\u001b[0m     n_train, n_test = _validate_shuffle_split(n_samples, test_size, train_size,\n\u001b[0;32m-> 2122\u001b[0;31m                                               default_test_size=0.25)\n\u001b[0m\u001b[1;32m   2123\u001b[0m \u001b[0;34m\u001b[0m\u001b[0m\n\u001b[1;32m   2124\u001b[0m     \u001b[0;32mif\u001b[0m \u001b[0mshuffle\u001b[0m \u001b[0;32mis\u001b[0m \u001b[0;32mFalse\u001b[0m\u001b[0;34m:\u001b[0m\u001b[0;34m\u001b[0m\u001b[0;34m\u001b[0m\u001b[0m\n",
            "\u001b[0;32m/usr/local/lib/python3.7/dist-packages/sklearn/model_selection/_split.py\u001b[0m in \u001b[0;36m_validate_shuffle_split\u001b[0;34m(n_samples, test_size, train_size, default_test_size)\u001b[0m\n\u001b[1;32m   1803\u001b[0m             \u001b[0;34m'resulting train set will be empty. Adjust any of the '\u001b[0m\u001b[0;34m\u001b[0m\u001b[0;34m\u001b[0m\u001b[0m\n\u001b[1;32m   1804\u001b[0m             'aforementioned parameters.'.format(n_samples, test_size,\n\u001b[0;32m-> 1805\u001b[0;31m                                                 train_size)\n\u001b[0m\u001b[1;32m   1806\u001b[0m         )\n\u001b[1;32m   1807\u001b[0m \u001b[0;34m\u001b[0m\u001b[0m\n",
            "\u001b[0;31mValueError\u001b[0m: With n_samples=4, test_size=0.9 and train_size=None, the resulting train set will be empty. Adjust any of the aforementioned parameters."
          ]
        }
      ]
    },
    {
      "cell_type": "code",
      "metadata": {
        "id": "TqhlcIxK9y0Y",
        "colab": {
          "base_uri": "https://localhost:8080/",
          "height": 601
        },
        "outputId": "5e5081e3-e314-4a8b-dc36-7aa12287c991"
      },
      "source": [
        "model =XGBClassifier()\n",
        "eval_set =[(x_Train,y_Train)]\n",
        "model.fit(x_Train,y_Train,early_stopping_rounds=100, eval_metric ='logloss',eval_set=eval_set,verbose=True)"
      ],
      "execution_count": null,
      "outputs": [
        {
          "output_type": "error",
          "ename": "XGBoostError",
          "evalue": "ignored",
          "traceback": [
            "\u001b[0;31m---------------------------------------------------------------------------\u001b[0m",
            "\u001b[0;31mXGBoostError\u001b[0m                              Traceback (most recent call last)",
            "\u001b[0;32m<ipython-input-25-b99f34ee8d2c>\u001b[0m in \u001b[0;36m<module>\u001b[0;34m()\u001b[0m\n\u001b[1;32m      1\u001b[0m \u001b[0mmodel\u001b[0m \u001b[0;34m=\u001b[0m\u001b[0mXGBClassifier\u001b[0m\u001b[0;34m(\u001b[0m\u001b[0;34m)\u001b[0m\u001b[0;34m\u001b[0m\u001b[0;34m\u001b[0m\u001b[0m\n\u001b[1;32m      2\u001b[0m \u001b[0meval_set\u001b[0m \u001b[0;34m=\u001b[0m\u001b[0;34m[\u001b[0m\u001b[0;34m(\u001b[0m\u001b[0mx_Train\u001b[0m\u001b[0;34m,\u001b[0m\u001b[0my_Train\u001b[0m\u001b[0;34m)\u001b[0m\u001b[0;34m]\u001b[0m\u001b[0;34m\u001b[0m\u001b[0;34m\u001b[0m\u001b[0m\n\u001b[0;32m----> 3\u001b[0;31m \u001b[0mmodel\u001b[0m\u001b[0;34m.\u001b[0m\u001b[0mfit\u001b[0m\u001b[0;34m(\u001b[0m\u001b[0mx_Train\u001b[0m\u001b[0;34m,\u001b[0m\u001b[0my_Train\u001b[0m\u001b[0;34m,\u001b[0m\u001b[0mearly_stopping_rounds\u001b[0m\u001b[0;34m=\u001b[0m\u001b[0;36m100\u001b[0m\u001b[0;34m,\u001b[0m \u001b[0meval_metric\u001b[0m \u001b[0;34m=\u001b[0m\u001b[0;34m'logloss'\u001b[0m\u001b[0;34m,\u001b[0m\u001b[0meval_set\u001b[0m\u001b[0;34m=\u001b[0m\u001b[0meval_set\u001b[0m\u001b[0;34m,\u001b[0m\u001b[0mverbose\u001b[0m\u001b[0;34m=\u001b[0m\u001b[0;32mTrue\u001b[0m\u001b[0;34m)\u001b[0m\u001b[0;34m\u001b[0m\u001b[0;34m\u001b[0m\u001b[0m\n\u001b[0m",
            "\u001b[0;32m/usr/local/lib/python3.7/dist-packages/xgboost/sklearn.py\u001b[0m in \u001b[0;36mfit\u001b[0;34m(self, X, y, sample_weight, eval_set, eval_metric, early_stopping_rounds, verbose, xgb_model, sample_weight_eval_set, callbacks)\u001b[0m\n\u001b[1;32m    730\u001b[0m                               \u001b[0mevals_result\u001b[0m\u001b[0;34m=\u001b[0m\u001b[0mevals_result\u001b[0m\u001b[0;34m,\u001b[0m \u001b[0mobj\u001b[0m\u001b[0;34m=\u001b[0m\u001b[0mobj\u001b[0m\u001b[0;34m,\u001b[0m \u001b[0mfeval\u001b[0m\u001b[0;34m=\u001b[0m\u001b[0mfeval\u001b[0m\u001b[0;34m,\u001b[0m\u001b[0;34m\u001b[0m\u001b[0;34m\u001b[0m\u001b[0m\n\u001b[1;32m    731\u001b[0m                               \u001b[0mverbose_eval\u001b[0m\u001b[0;34m=\u001b[0m\u001b[0mverbose\u001b[0m\u001b[0;34m,\u001b[0m \u001b[0mxgb_model\u001b[0m\u001b[0;34m=\u001b[0m\u001b[0mxgb_model\u001b[0m\u001b[0;34m,\u001b[0m\u001b[0;34m\u001b[0m\u001b[0;34m\u001b[0m\u001b[0m\n\u001b[0;32m--> 732\u001b[0;31m                               callbacks=callbacks)\n\u001b[0m\u001b[1;32m    733\u001b[0m \u001b[0;34m\u001b[0m\u001b[0m\n\u001b[1;32m    734\u001b[0m         \u001b[0mself\u001b[0m\u001b[0;34m.\u001b[0m\u001b[0mobjective\u001b[0m \u001b[0;34m=\u001b[0m \u001b[0mxgb_options\u001b[0m\u001b[0;34m[\u001b[0m\u001b[0;34m\"objective\"\u001b[0m\u001b[0;34m]\u001b[0m\u001b[0;34m\u001b[0m\u001b[0;34m\u001b[0m\u001b[0m\n",
            "\u001b[0;32m/usr/local/lib/python3.7/dist-packages/xgboost/training.py\u001b[0m in \u001b[0;36mtrain\u001b[0;34m(params, dtrain, num_boost_round, evals, obj, feval, maximize, early_stopping_rounds, evals_result, verbose_eval, xgb_model, callbacks, learning_rates)\u001b[0m\n\u001b[1;32m    214\u001b[0m                            \u001b[0mevals\u001b[0m\u001b[0;34m=\u001b[0m\u001b[0mevals\u001b[0m\u001b[0;34m,\u001b[0m\u001b[0;34m\u001b[0m\u001b[0;34m\u001b[0m\u001b[0m\n\u001b[1;32m    215\u001b[0m                            \u001b[0mobj\u001b[0m\u001b[0;34m=\u001b[0m\u001b[0mobj\u001b[0m\u001b[0;34m,\u001b[0m \u001b[0mfeval\u001b[0m\u001b[0;34m=\u001b[0m\u001b[0mfeval\u001b[0m\u001b[0;34m,\u001b[0m\u001b[0;34m\u001b[0m\u001b[0;34m\u001b[0m\u001b[0m\n\u001b[0;32m--> 216\u001b[0;31m                            xgb_model=xgb_model, callbacks=callbacks)\n\u001b[0m\u001b[1;32m    217\u001b[0m \u001b[0;34m\u001b[0m\u001b[0m\n\u001b[1;32m    218\u001b[0m \u001b[0;34m\u001b[0m\u001b[0m\n",
            "\u001b[0;32m/usr/local/lib/python3.7/dist-packages/xgboost/training.py\u001b[0m in \u001b[0;36m_train_internal\u001b[0;34m(params, dtrain, num_boost_round, evals, obj, feval, xgb_model, callbacks)\u001b[0m\n\u001b[1;32m     82\u001b[0m         \u001b[0;31m# check evaluation result.\u001b[0m\u001b[0;34m\u001b[0m\u001b[0;34m\u001b[0m\u001b[0;34m\u001b[0m\u001b[0m\n\u001b[1;32m     83\u001b[0m         \u001b[0;32mif\u001b[0m \u001b[0mevals\u001b[0m\u001b[0;34m:\u001b[0m\u001b[0;34m\u001b[0m\u001b[0;34m\u001b[0m\u001b[0m\n\u001b[0;32m---> 84\u001b[0;31m             \u001b[0mbst_eval_set\u001b[0m \u001b[0;34m=\u001b[0m \u001b[0mbst\u001b[0m\u001b[0;34m.\u001b[0m\u001b[0meval_set\u001b[0m\u001b[0;34m(\u001b[0m\u001b[0mevals\u001b[0m\u001b[0;34m,\u001b[0m \u001b[0mi\u001b[0m\u001b[0;34m,\u001b[0m \u001b[0mfeval\u001b[0m\u001b[0;34m)\u001b[0m\u001b[0;34m\u001b[0m\u001b[0;34m\u001b[0m\u001b[0m\n\u001b[0m\u001b[1;32m     85\u001b[0m             \u001b[0;32mif\u001b[0m \u001b[0misinstance\u001b[0m\u001b[0;34m(\u001b[0m\u001b[0mbst_eval_set\u001b[0m\u001b[0;34m,\u001b[0m \u001b[0mSTRING_TYPES\u001b[0m\u001b[0;34m)\u001b[0m\u001b[0;34m:\u001b[0m\u001b[0;34m\u001b[0m\u001b[0;34m\u001b[0m\u001b[0m\n\u001b[1;32m     86\u001b[0m                 \u001b[0mmsg\u001b[0m \u001b[0;34m=\u001b[0m \u001b[0mbst_eval_set\u001b[0m\u001b[0;34m\u001b[0m\u001b[0;34m\u001b[0m\u001b[0m\n",
            "\u001b[0;32m/usr/local/lib/python3.7/dist-packages/xgboost/core.py\u001b[0m in \u001b[0;36meval_set\u001b[0;34m(self, evals, iteration, feval)\u001b[0m\n\u001b[1;32m   1170\u001b[0m                                               \u001b[0mdmats\u001b[0m\u001b[0;34m,\u001b[0m \u001b[0mevnames\u001b[0m\u001b[0;34m,\u001b[0m\u001b[0;34m\u001b[0m\u001b[0;34m\u001b[0m\u001b[0m\n\u001b[1;32m   1171\u001b[0m                                               \u001b[0mc_bst_ulong\u001b[0m\u001b[0;34m(\u001b[0m\u001b[0mlen\u001b[0m\u001b[0;34m(\u001b[0m\u001b[0mevals\u001b[0m\u001b[0;34m)\u001b[0m\u001b[0;34m)\u001b[0m\u001b[0;34m,\u001b[0m\u001b[0;34m\u001b[0m\u001b[0;34m\u001b[0m\u001b[0m\n\u001b[0;32m-> 1172\u001b[0;31m                                               ctypes.byref(msg)))\n\u001b[0m\u001b[1;32m   1173\u001b[0m         \u001b[0mres\u001b[0m \u001b[0;34m=\u001b[0m \u001b[0mmsg\u001b[0m\u001b[0;34m.\u001b[0m\u001b[0mvalue\u001b[0m\u001b[0;34m.\u001b[0m\u001b[0mdecode\u001b[0m\u001b[0;34m(\u001b[0m\u001b[0;34m)\u001b[0m\u001b[0;34m\u001b[0m\u001b[0;34m\u001b[0m\u001b[0m\n\u001b[1;32m   1174\u001b[0m         \u001b[0;32mif\u001b[0m \u001b[0mfeval\u001b[0m \u001b[0;32mis\u001b[0m \u001b[0;32mnot\u001b[0m \u001b[0;32mNone\u001b[0m\u001b[0;34m:\u001b[0m\u001b[0;34m\u001b[0m\u001b[0;34m\u001b[0m\u001b[0m\n",
            "\u001b[0;32m/usr/local/lib/python3.7/dist-packages/xgboost/core.py\u001b[0m in \u001b[0;36m_check_call\u001b[0;34m(ret)\u001b[0m\n\u001b[1;32m    174\u001b[0m     \"\"\"\n\u001b[1;32m    175\u001b[0m     \u001b[0;32mif\u001b[0m \u001b[0mret\u001b[0m \u001b[0;34m!=\u001b[0m \u001b[0;36m0\u001b[0m\u001b[0;34m:\u001b[0m\u001b[0;34m\u001b[0m\u001b[0;34m\u001b[0m\u001b[0m\n\u001b[0;32m--> 176\u001b[0;31m         \u001b[0;32mraise\u001b[0m \u001b[0mXGBoostError\u001b[0m\u001b[0;34m(\u001b[0m\u001b[0mpy_str\u001b[0m\u001b[0;34m(\u001b[0m\u001b[0m_LIB\u001b[0m\u001b[0;34m.\u001b[0m\u001b[0mXGBGetLastError\u001b[0m\u001b[0;34m(\u001b[0m\u001b[0;34m)\u001b[0m\u001b[0;34m)\u001b[0m\u001b[0;34m)\u001b[0m\u001b[0;34m\u001b[0m\u001b[0;34m\u001b[0m\u001b[0m\n\u001b[0m\u001b[1;32m    177\u001b[0m \u001b[0;34m\u001b[0m\u001b[0m\n\u001b[1;32m    178\u001b[0m \u001b[0;34m\u001b[0m\u001b[0m\n",
            "\u001b[0;31mXGBoostError\u001b[0m: [08:10:44] /workspace/src/metric/elementwise_metric.cu:326: Check failed: preds.Size() == info.labels_.Size() (630 vs. 210) : label and prediction size not match, hint: use merror or mlogloss for multi-class classification\nStack trace:\n  [bt] (0) /usr/local/lib/python3.7/dist-packages/xgboost/./lib/libxgboost.so(dmlc::LogMessageFatal::~LogMessageFatal()+0x24) [0x7fe19b5dccb4]\n  [bt] (1) /usr/local/lib/python3.7/dist-packages/xgboost/./lib/libxgboost.so(xgboost::metric::EvalEWiseBase<xgboost::metric::EvalRowLogLoss>::Eval(xgboost::HostDeviceVector<float> const&, xgboost::MetaInfo const&, bool)+0x1fe) [0x7fe19b7c042e]\n  [bt] (2) /usr/local/lib/python3.7/dist-packages/xgboost/./lib/libxgboost.so(xgboost::LearnerImpl::EvalOneIter(int, std::vector<xgboost::DMatrix*, std::allocator<xgboost::DMatrix*> > const&, std::vector<std::string, std::allocator<std::string> > const&)+0x3c9) [0x7fe19b676d99]\n  [bt] (3) /usr/local/lib/python3.7/dist-packages/xgboost/./lib/libxgboost.so(XGBoosterEvalOneIter+0x371) [0x7fe19b5d9651]\n  [bt] (4) /usr/lib/x86_64-linux-gnu/libffi.so.6(ffi_call_unix64+0x4c) [0x7fe2032e1dae]\n  [bt] (5) /usr/lib/x86_64-linux-gnu/libffi.so.6(ffi_call+0x22f) [0x7fe2032e171f]\n  [bt] (6) /usr/lib/python3.7/lib-dynload/_ctypes.cpython-37m-x86_64-linux-gnu.so(_ctypes_callproc+0x28c) [0x7fe2034f55bc]\n  [bt] (7) /usr/lib/python3.7/lib-dynload/_ctypes.cpython-37m-x86_64-linux-gnu.so(+0x109e3) [0x7fe2034f49e3]\n  [bt] (8) /usr/bin/python3(_PyObject_FastCallKeywords+0x92) [0x56148160d462]\n\n"
          ]
        }
      ]
    },
    {
      "cell_type": "code",
      "metadata": {
        "colab": {
          "base_uri": "https://localhost:8080/",
          "height": 334
        },
        "id": "y6zKwZHK9zvT",
        "outputId": "b1d1e81b-b83c-47a3-d8d1-570618c250cf"
      },
      "source": [
        "#make predictions for test data\n",
        "predictions = model.predict(x_Test)\n"
      ],
      "execution_count": null,
      "outputs": [
        {
          "output_type": "error",
          "ename": "XGBoostError",
          "evalue": "ignored",
          "traceback": [
            "\u001b[0;31m---------------------------------------------------------------------------\u001b[0m",
            "\u001b[0;31mXGBoostError\u001b[0m                              Traceback (most recent call last)",
            "\u001b[0;32m<ipython-input-56-608519c57217>\u001b[0m in \u001b[0;36m<module>\u001b[0;34m()\u001b[0m\n\u001b[1;32m      1\u001b[0m \u001b[0;31m#make predictions for test data\u001b[0m\u001b[0;34m\u001b[0m\u001b[0;34m\u001b[0m\u001b[0;34m\u001b[0m\u001b[0m\n\u001b[0;32m----> 2\u001b[0;31m \u001b[0mpredictions\u001b[0m \u001b[0;34m=\u001b[0m \u001b[0mmodel\u001b[0m\u001b[0;34m.\u001b[0m\u001b[0mpredict\u001b[0m\u001b[0;34m(\u001b[0m\u001b[0mx_Test\u001b[0m\u001b[0;34m)\u001b[0m\u001b[0;34m\u001b[0m\u001b[0;34m\u001b[0m\u001b[0m\n\u001b[0m",
            "\u001b[0;32m/usr/local/lib/python3.7/dist-packages/xgboost/sklearn.py\u001b[0m in \u001b[0;36mpredict\u001b[0;34m(self, data, output_margin, ntree_limit, validate_features)\u001b[0m\n\u001b[1;32m    786\u001b[0m         \u001b[0;32mif\u001b[0m \u001b[0mntree_limit\u001b[0m \u001b[0;32mis\u001b[0m \u001b[0;32mNone\u001b[0m\u001b[0;34m:\u001b[0m\u001b[0;34m\u001b[0m\u001b[0;34m\u001b[0m\u001b[0m\n\u001b[1;32m    787\u001b[0m             \u001b[0mntree_limit\u001b[0m \u001b[0;34m=\u001b[0m \u001b[0mgetattr\u001b[0m\u001b[0;34m(\u001b[0m\u001b[0mself\u001b[0m\u001b[0;34m,\u001b[0m \u001b[0;34m\"best_ntree_limit\"\u001b[0m\u001b[0;34m,\u001b[0m \u001b[0;36m0\u001b[0m\u001b[0;34m)\u001b[0m\u001b[0;34m\u001b[0m\u001b[0;34m\u001b[0m\u001b[0m\n\u001b[0;32m--> 788\u001b[0;31m         class_probs = self.get_booster().predict(test_dmatrix,\n\u001b[0m\u001b[1;32m    789\u001b[0m                                                  \u001b[0moutput_margin\u001b[0m\u001b[0;34m=\u001b[0m\u001b[0moutput_margin\u001b[0m\u001b[0;34m,\u001b[0m\u001b[0;34m\u001b[0m\u001b[0;34m\u001b[0m\u001b[0m\n\u001b[1;32m    790\u001b[0m                                                  \u001b[0mntree_limit\u001b[0m\u001b[0;34m=\u001b[0m\u001b[0mntree_limit\u001b[0m\u001b[0;34m,\u001b[0m\u001b[0;34m\u001b[0m\u001b[0;34m\u001b[0m\u001b[0m\n",
            "\u001b[0;32m/usr/local/lib/python3.7/dist-packages/xgboost/sklearn.py\u001b[0m in \u001b[0;36mget_booster\u001b[0;34m(self)\u001b[0m\n\u001b[1;32m    191\u001b[0m         \"\"\"\n\u001b[1;32m    192\u001b[0m         \u001b[0;32mif\u001b[0m \u001b[0mself\u001b[0m\u001b[0;34m.\u001b[0m\u001b[0m_Booster\u001b[0m \u001b[0;32mis\u001b[0m \u001b[0;32mNone\u001b[0m\u001b[0;34m:\u001b[0m\u001b[0;34m\u001b[0m\u001b[0;34m\u001b[0m\u001b[0m\n\u001b[0;32m--> 193\u001b[0;31m             \u001b[0;32mraise\u001b[0m \u001b[0mXGBoostError\u001b[0m\u001b[0;34m(\u001b[0m\u001b[0;34m'need to call fit or load_model beforehand'\u001b[0m\u001b[0;34m)\u001b[0m\u001b[0;34m\u001b[0m\u001b[0;34m\u001b[0m\u001b[0m\n\u001b[0m\u001b[1;32m    194\u001b[0m         \u001b[0;32mreturn\u001b[0m \u001b[0mself\u001b[0m\u001b[0;34m.\u001b[0m\u001b[0m_Booster\u001b[0m\u001b[0;34m\u001b[0m\u001b[0;34m\u001b[0m\u001b[0m\n\u001b[1;32m    195\u001b[0m \u001b[0;34m\u001b[0m\u001b[0m\n",
            "\u001b[0;31mXGBoostError\u001b[0m: need to call fit or load_model beforehand"
          ]
        }
      ]
    },
    {
      "cell_type": "code",
      "metadata": {
        "id": "abciEYQp92a7"
      },
      "source": [
        "y_xgb_pred =model.predict(x_Test)\n",
        "print(y_Test)\n",
        "print(y_xgb_pred)\n",
        "\n",
        "cm = confusion_matrix(y_xgb_pred,y_Test)\n",
        "print(cm)"
      ],
      "execution_count": null,
      "outputs": []
    },
    {
      "cell_type": "code",
      "metadata": {
        "id": "NnzpzwyW94tE"
      },
      "source": [
        "# evoluate predictions\n",
        "accuracy = accuracy_score(y_Test, predictions)\n",
        "print(\"Accuracy: %.2f%%\" %(accuracy * 100.0))"
      ],
      "execution_count": null,
      "outputs": []
    },
    {
      "cell_type": "code",
      "metadata": {
        "id": "Fi4Fe3NCHSo6"
      },
      "source": [
        ""
      ],
      "execution_count": null,
      "outputs": []
    },
    {
      "cell_type": "code",
      "metadata": {
        "id": "NgamMuU596fi"
      },
      "source": [
        "from sklearn.metrics import accuracy_score\n",
        "print(accuracy_score(y_Test,y_pred))"
      ],
      "execution_count": null,
      "outputs": []
    },
    {
      "cell_type": "code",
      "metadata": {
        "colab": {
          "base_uri": "https://localhost:8080/",
          "height": 185
        },
        "id": "WZWGKyzq98me",
        "outputId": "6a4d8f78-ee84-4d17-bb6d-14e122fed499"
      },
      "source": [
        "xgb_acc = accuracy_score(y_Test, y_pred)\n",
        "print(xgb_acc)"
      ],
      "execution_count": null,
      "outputs": [
        {
          "output_type": "error",
          "ename": "NameError",
          "evalue": "ignored",
          "traceback": [
            "\u001b[0;31m---------------------------------------------------------------------------\u001b[0m",
            "\u001b[0;31mNameError\u001b[0m                                 Traceback (most recent call last)",
            "\u001b[0;32m<ipython-input-25-453c16aba941>\u001b[0m in \u001b[0;36m<module>\u001b[0;34m()\u001b[0m\n\u001b[0;32m----> 1\u001b[0;31m \u001b[0mxgb_acc\u001b[0m \u001b[0;34m=\u001b[0m \u001b[0maccuracy_score\u001b[0m\u001b[0;34m(\u001b[0m\u001b[0my_Test\u001b[0m\u001b[0;34m,\u001b[0m \u001b[0my_pred\u001b[0m\u001b[0;34m)\u001b[0m\u001b[0;34m\u001b[0m\u001b[0;34m\u001b[0m\u001b[0m\n\u001b[0m\u001b[1;32m      2\u001b[0m \u001b[0mprint\u001b[0m\u001b[0;34m(\u001b[0m\u001b[0mxgb_acc\u001b[0m\u001b[0;34m)\u001b[0m\u001b[0;34m\u001b[0m\u001b[0;34m\u001b[0m\u001b[0m\n",
            "\u001b[0;31mNameError\u001b[0m: name 'y_pred' is not defined"
          ]
        }
      ]
    },
    {
      "cell_type": "code",
      "metadata": {
        "colab": {
          "base_uri": "https://localhost:8080/",
          "height": 238
        },
        "id": "0iMPe4J3-EtD",
        "outputId": "704382b5-f7ac-4399-8502-1bb0413ef4bb"
      },
      "source": [
        "tempResults = pd.DataFrame({'Algorithm':['XGBoost Classifier Method'], 'Accuracy':[xgb_acc]})\n",
        "results = pd.concat( [results, tempResults] )\n",
        "results = results[['Algorithm','Accuracy']]\n",
        "results"
      ],
      "execution_count": null,
      "outputs": [
        {
          "output_type": "error",
          "ename": "NameError",
          "evalue": "ignored",
          "traceback": [
            "\u001b[0;31m---------------------------------------------------------------------------\u001b[0m",
            "\u001b[0;31mNameError\u001b[0m                                 Traceback (most recent call last)",
            "\u001b[0;32m<ipython-input-26-bccf23d01a4d>\u001b[0m in \u001b[0;36m<module>\u001b[0;34m()\u001b[0m\n\u001b[0;32m----> 1\u001b[0;31m \u001b[0mtempResults\u001b[0m \u001b[0;34m=\u001b[0m \u001b[0mpd\u001b[0m\u001b[0;34m.\u001b[0m\u001b[0mDataFrame\u001b[0m\u001b[0;34m(\u001b[0m\u001b[0;34m{\u001b[0m\u001b[0;34m'Algorithm'\u001b[0m\u001b[0;34m:\u001b[0m\u001b[0;34m[\u001b[0m\u001b[0;34m'XGBoost Classifier Method'\u001b[0m\u001b[0;34m]\u001b[0m\u001b[0;34m,\u001b[0m \u001b[0;34m'Accuracy'\u001b[0m\u001b[0;34m:\u001b[0m\u001b[0;34m[\u001b[0m\u001b[0mxgb_acc\u001b[0m\u001b[0;34m]\u001b[0m\u001b[0;34m}\u001b[0m\u001b[0;34m)\u001b[0m\u001b[0;34m\u001b[0m\u001b[0;34m\u001b[0m\u001b[0m\n\u001b[0m\u001b[1;32m      2\u001b[0m \u001b[0mresults\u001b[0m \u001b[0;34m=\u001b[0m \u001b[0mpd\u001b[0m\u001b[0;34m.\u001b[0m\u001b[0mconcat\u001b[0m\u001b[0;34m(\u001b[0m \u001b[0;34m[\u001b[0m\u001b[0mresults\u001b[0m\u001b[0;34m,\u001b[0m \u001b[0mtempResults\u001b[0m\u001b[0;34m]\u001b[0m \u001b[0;34m)\u001b[0m\u001b[0;34m\u001b[0m\u001b[0;34m\u001b[0m\u001b[0m\n\u001b[1;32m      3\u001b[0m \u001b[0mresults\u001b[0m \u001b[0;34m=\u001b[0m \u001b[0mresults\u001b[0m\u001b[0;34m[\u001b[0m\u001b[0;34m[\u001b[0m\u001b[0;34m'Algorithm'\u001b[0m\u001b[0;34m,\u001b[0m\u001b[0;34m'Accuracy'\u001b[0m\u001b[0;34m]\u001b[0m\u001b[0;34m]\u001b[0m\u001b[0;34m\u001b[0m\u001b[0;34m\u001b[0m\u001b[0m\n\u001b[1;32m      4\u001b[0m \u001b[0mresults\u001b[0m\u001b[0;34m\u001b[0m\u001b[0;34m\u001b[0m\u001b[0m\n",
            "\u001b[0;31mNameError\u001b[0m: name 'xgb_acc' is not defined"
          ]
        }
      ]
    },
    {
      "cell_type": "markdown",
      "metadata": {
        "id": "GVMSsDOvN_rj"
      },
      "source": [
        "##Perform Kmean Clustering"
      ]
    },
    {
      "cell_type": "code",
      "metadata": {
        "id": "S2m7FF3fiOhV"
      },
      "source": [
        "from sklearn.cluster import KMeans\n",
        "from scipy.stats import zscore"
      ],
      "execution_count": null,
      "outputs": []
    },
    {
      "cell_type": "code",
      "metadata": {
        "id": "EgS6hgVjiHXp"
      },
      "source": [
        "# Scale the Dataset\n",
        "df_scaled = df.apply(zscore)"
      ],
      "execution_count": null,
      "outputs": []
    },
    {
      "cell_type": "code",
      "metadata": {
        "id": "5NMoSc-hiRiy"
      },
      "source": [
        "# Let us check optimal number of clusters-\n",
        "\n",
        "# expect 3 to four clusters from the pair panel visual inspection hence restricting from 2 to 6\n",
        "cluster_range = range( 1, 10 )\n",
        "cluster_errors = []\n",
        "for num_clusters in cluster_range:\n",
        "  clusters = KMeans( num_clusters,n_init = 15, random_state=2) \n",
        "  clusters.fit(df_scaled)\n",
        " \n",
        "    # capture the cluster lables\n",
        "  labels = clusters.labels_\n",
        "\n",
        "# capture the centroids\n",
        "  centroids = clusters.cluster_centers_\n",
        "\n",
        "    # capture the intertia\n",
        "  cluster_errors.append( clusters.inertia_ )\n",
        "\n",
        "# combine the cluster_range and cluster_errors into a dataframe by combining them\n",
        "clusters_df = pd.DataFrame( { \"num_clusters\":cluster_range, \"cluster_errors\": cluster_errors } )\n",
        "clusters_df[0:10]"
      ],
      "execution_count": null,
      "outputs": []
    },
    {
      "cell_type": "code",
      "metadata": {
        "id": "tZjJrOpziYFG"
      },
      "source": [
        "# Number of clusters\n",
        "kmeans = KMeans(n_clusters=3, n_init = 15, random_state=2)"
      ],
      "execution_count": null,
      "outputs": []
    },
    {
      "cell_type": "code",
      "metadata": {
        "colab": {
          "base_uri": "https://localhost:8080/"
        },
        "id": "mwiVi7OFihmM",
        "outputId": "52b994f1-8251-411b-f7a2-e6f8789ef9df"
      },
      "source": [
        "# Fitting the input data\n",
        "kmeans.fit(df_scaled)"
      ],
      "execution_count": null,
      "outputs": [
        {
          "output_type": "execute_result",
          "data": {
            "text/plain": [
              "KMeans(algorithm='auto', copy_x=True, init='k-means++', max_iter=300,\n",
              "       n_clusters=3, n_init=15, n_jobs=None, precompute_distances='auto',\n",
              "       random_state=2, tol=0.0001, verbose=0)"
            ]
          },
          "metadata": {
            "tags": []
          },
          "execution_count": 10
        }
      ]
    },
    {
      "cell_type": "code",
      "metadata": {
        "id": "zSqxagQ_ii_9"
      },
      "source": [
        "#Centroids\n",
        "centroids=kmeans.cluster_centers_"
      ],
      "execution_count": null,
      "outputs": []
    },
    {
      "cell_type": "code",
      "metadata": {
        "id": "6YZxFWB1ilh2"
      },
      "source": [
        "centroid_df = pd.DataFrame(centroids, columns = list(df_scaled) )"
      ],
      "execution_count": null,
      "outputs": []
    },
    {
      "cell_type": "code",
      "metadata": {
        "colab": {
          "base_uri": "https://localhost:8080/",
          "height": 203
        },
        "id": "NrzA6PjvinHJ",
        "outputId": "5d88aeb3-d969-4ee4-a967-09227e5164dd"
      },
      "source": [
        "centroid_df"
      ],
      "execution_count": null,
      "outputs": [
        {
          "output_type": "execute_result",
          "data": {
            "text/html": [
              "<div>\n",
              "<style scoped>\n",
              "    .dataframe tbody tr th:only-of-type {\n",
              "        vertical-align: middle;\n",
              "    }\n",
              "\n",
              "    .dataframe tbody tr th {\n",
              "        vertical-align: top;\n",
              "    }\n",
              "\n",
              "    .dataframe thead th {\n",
              "        text-align: right;\n",
              "    }\n",
              "</style>\n",
              "<table border=\"1\" class=\"dataframe\">\n",
              "  <thead>\n",
              "    <tr style=\"text-align: right;\">\n",
              "      <th></th>\n",
              "      <th>Unnamed: 0</th>\n",
              "      <th>Unnamed: 1</th>\n",
              "      <th>Unnamed: 2</th>\n",
              "      <th>Unnamed: 3</th>\n",
              "      <th>Unnamed: 4</th>\n",
              "      <th>Unnamed: 5</th>\n",
              "      <th>Unnamed: 6</th>\n",
              "      <th>Unnamed: 7</th>\n",
              "      <th>Unnamed: 8</th>\n",
              "      <th>Unnamed: 9</th>\n",
              "      <th>Unnamed: 10</th>\n",
              "      <th>Unnamed: 11</th>\n",
              "      <th>Unnamed: 12</th>\n",
              "      <th>Unnamed: 13</th>\n",
              "      <th>Unnamed: 14</th>\n",
              "      <th>Unnamed: 15</th>\n",
              "      <th>Unnamed: 16</th>\n",
              "      <th>Unnamed: 17</th>\n",
              "      <th>Unnamed: 18</th>\n",
              "      <th>Unnamed: 19</th>\n",
              "      <th>Unnamed: 20</th>\n",
              "      <th>Unnamed: 21</th>\n",
              "      <th>Unnamed: 22</th>\n",
              "      <th>Unnamed: 23</th>\n",
              "      <th>Unnamed: 24</th>\n",
              "      <th>Unnamed: 25</th>\n",
              "      <th>Unnamed: 26</th>\n",
              "      <th>Unnamed: 27</th>\n",
              "      <th>Unnamed: 28</th>\n",
              "      <th>Unnamed: 29</th>\n",
              "      <th>Unnamed: 30</th>\n",
              "      <th>Unnamed: 31</th>\n",
              "      <th>Unnamed: 32</th>\n",
              "      <th>Unnamed: 33</th>\n",
              "      <th>Unnamed: 34</th>\n",
              "      <th>Unnamed: 35</th>\n",
              "      <th>Unnamed: 36</th>\n",
              "      <th>Unnamed: 37</th>\n",
              "      <th>Unnamed: 38</th>\n",
              "      <th>Unnamed: 39</th>\n",
              "      <th>...</th>\n",
              "      <th>Unnamed: 4057</th>\n",
              "      <th>Unnamed: 4058</th>\n",
              "      <th>Unnamed: 4059</th>\n",
              "      <th>Unnamed: 4060</th>\n",
              "      <th>Unnamed: 4061</th>\n",
              "      <th>Unnamed: 4062</th>\n",
              "      <th>Unnamed: 4063</th>\n",
              "      <th>Unnamed: 4064</th>\n",
              "      <th>Unnamed: 4065</th>\n",
              "      <th>Unnamed: 4066</th>\n",
              "      <th>Unnamed: 4067</th>\n",
              "      <th>Unnamed: 4068</th>\n",
              "      <th>Unnamed: 4069</th>\n",
              "      <th>Unnamed: 4070</th>\n",
              "      <th>Unnamed: 4071</th>\n",
              "      <th>Unnamed: 4072</th>\n",
              "      <th>Unnamed: 4073</th>\n",
              "      <th>Unnamed: 4074</th>\n",
              "      <th>Unnamed: 4075</th>\n",
              "      <th>Unnamed: 4076</th>\n",
              "      <th>Unnamed: 4077</th>\n",
              "      <th>Unnamed: 4078</th>\n",
              "      <th>Unnamed: 4079</th>\n",
              "      <th>Unnamed: 4080</th>\n",
              "      <th>Unnamed: 4081</th>\n",
              "      <th>Unnamed: 4082</th>\n",
              "      <th>Unnamed: 4083</th>\n",
              "      <th>Unnamed: 4084</th>\n",
              "      <th>Unnamed: 4085</th>\n",
              "      <th>Unnamed: 4086</th>\n",
              "      <th>Unnamed: 4087</th>\n",
              "      <th>Unnamed: 4088</th>\n",
              "      <th>Unnamed: 4089</th>\n",
              "      <th>Unnamed: 4090</th>\n",
              "      <th>Unnamed: 4091</th>\n",
              "      <th>Unnamed: 4092</th>\n",
              "      <th>Unnamed: 4093</th>\n",
              "      <th>Unnamed: 4094</th>\n",
              "      <th>Unnamed: 4095</th>\n",
              "      <th>Unnamed: 4096</th>\n",
              "    </tr>\n",
              "  </thead>\n",
              "  <tbody>\n",
              "    <tr>\n",
              "      <th>0</th>\n",
              "      <td>1.284267</td>\n",
              "      <td>-2.031725</td>\n",
              "      <td>-4.689536</td>\n",
              "      <td>-5.672939</td>\n",
              "      <td>-4.993369</td>\n",
              "      <td>-2.307500</td>\n",
              "      <td>1.330278</td>\n",
              "      <td>3.855793</td>\n",
              "      <td>5.016986</td>\n",
              "      <td>5.108701</td>\n",
              "      <td>4.733688</td>\n",
              "      <td>4.054601</td>\n",
              "      <td>2.463983</td>\n",
              "      <td>0.170125</td>\n",
              "      <td>-2.290724</td>\n",
              "      <td>-3.881493</td>\n",
              "      <td>-3.147774</td>\n",
              "      <td>-0.871480</td>\n",
              "      <td>1.693864</td>\n",
              "      <td>3.207923</td>\n",
              "      <td>3.929427</td>\n",
              "      <td>3.853776</td>\n",
              "      <td>3.179506</td>\n",
              "      <td>2.639978</td>\n",
              "      <td>2.504775</td>\n",
              "      <td>2.685742</td>\n",
              "      <td>2.798995</td>\n",
              "      <td>2.682670</td>\n",
              "      <td>2.344897</td>\n",
              "      <td>1.798668</td>\n",
              "      <td>1.081734</td>\n",
              "      <td>0.420021</td>\n",
              "      <td>-0.018848</td>\n",
              "      <td>-0.126485</td>\n",
              "      <td>0.075816</td>\n",
              "      <td>0.294100</td>\n",
              "      <td>0.300346</td>\n",
              "      <td>0.160173</td>\n",
              "      <td>0.150135</td>\n",
              "      <td>0.344380</td>\n",
              "      <td>...</td>\n",
              "      <td>-0.197932</td>\n",
              "      <td>0.328395</td>\n",
              "      <td>1.199099</td>\n",
              "      <td>2.051018</td>\n",
              "      <td>2.678037</td>\n",
              "      <td>2.919625</td>\n",
              "      <td>2.863076</td>\n",
              "      <td>2.774522</td>\n",
              "      <td>2.395564</td>\n",
              "      <td>2.028045</td>\n",
              "      <td>1.964164</td>\n",
              "      <td>2.104206</td>\n",
              "      <td>2.450722</td>\n",
              "      <td>2.533687</td>\n",
              "      <td>2.186307</td>\n",
              "      <td>1.014988</td>\n",
              "      <td>-1.286645</td>\n",
              "      <td>-4.333097</td>\n",
              "      <td>-6.700524</td>\n",
              "      <td>-7.430926</td>\n",
              "      <td>-7.239560</td>\n",
              "      <td>-5.346491</td>\n",
              "      <td>-1.183531</td>\n",
              "      <td>2.867897</td>\n",
              "      <td>5.046966</td>\n",
              "      <td>5.626138</td>\n",
              "      <td>4.196518</td>\n",
              "      <td>0.070828</td>\n",
              "      <td>-3.825247</td>\n",
              "      <td>-5.006503</td>\n",
              "      <td>-4.236859</td>\n",
              "      <td>-2.055966</td>\n",
              "      <td>0.612207</td>\n",
              "      <td>2.497618</td>\n",
              "      <td>3.514092</td>\n",
              "      <td>4.095029</td>\n",
              "      <td>4.330173</td>\n",
              "      <td>4.426603</td>\n",
              "      <td>4.403947</td>\n",
              "      <td>-1.045617</td>\n",
              "    </tr>\n",
              "    <tr>\n",
              "      <th>1</th>\n",
              "      <td>5.537945</td>\n",
              "      <td>5.206952</td>\n",
              "      <td>4.642678</td>\n",
              "      <td>4.450854</td>\n",
              "      <td>4.818518</td>\n",
              "      <td>5.700639</td>\n",
              "      <td>6.381829</td>\n",
              "      <td>6.746414</td>\n",
              "      <td>6.487813</td>\n",
              "      <td>5.988446</td>\n",
              "      <td>3.657779</td>\n",
              "      <td>-1.249528</td>\n",
              "      <td>-7.052612</td>\n",
              "      <td>-9.218162</td>\n",
              "      <td>-9.435925</td>\n",
              "      <td>-9.593548</td>\n",
              "      <td>-10.105201</td>\n",
              "      <td>-10.137896</td>\n",
              "      <td>-9.346567</td>\n",
              "      <td>-7.507119</td>\n",
              "      <td>-5.780829</td>\n",
              "      <td>-4.126760</td>\n",
              "      <td>-2.688628</td>\n",
              "      <td>-1.320681</td>\n",
              "      <td>0.138893</td>\n",
              "      <td>1.413712</td>\n",
              "      <td>2.524545</td>\n",
              "      <td>3.236441</td>\n",
              "      <td>3.962798</td>\n",
              "      <td>4.337678</td>\n",
              "      <td>4.509552</td>\n",
              "      <td>4.300645</td>\n",
              "      <td>4.258937</td>\n",
              "      <td>4.328252</td>\n",
              "      <td>4.155974</td>\n",
              "      <td>4.069391</td>\n",
              "      <td>3.923728</td>\n",
              "      <td>3.689368</td>\n",
              "      <td>3.509717</td>\n",
              "      <td>3.384611</td>\n",
              "      <td>...</td>\n",
              "      <td>-1.907208</td>\n",
              "      <td>-2.732780</td>\n",
              "      <td>-3.155452</td>\n",
              "      <td>-2.982154</td>\n",
              "      <td>-1.534514</td>\n",
              "      <td>-0.349310</td>\n",
              "      <td>1.630459</td>\n",
              "      <td>2.745251</td>\n",
              "      <td>3.527146</td>\n",
              "      <td>2.558984</td>\n",
              "      <td>1.106084</td>\n",
              "      <td>-1.095486</td>\n",
              "      <td>-2.356490</td>\n",
              "      <td>-1.567008</td>\n",
              "      <td>1.099556</td>\n",
              "      <td>4.352488</td>\n",
              "      <td>6.245712</td>\n",
              "      <td>5.923992</td>\n",
              "      <td>5.292340</td>\n",
              "      <td>4.797334</td>\n",
              "      <td>4.611357</td>\n",
              "      <td>4.400862</td>\n",
              "      <td>2.087819</td>\n",
              "      <td>-0.297872</td>\n",
              "      <td>-1.767015</td>\n",
              "      <td>-1.350061</td>\n",
              "      <td>0.669965</td>\n",
              "      <td>3.698471</td>\n",
              "      <td>5.260168</td>\n",
              "      <td>5.343191</td>\n",
              "      <td>5.047102</td>\n",
              "      <td>4.739822</td>\n",
              "      <td>3.865039</td>\n",
              "      <td>1.688897</td>\n",
              "      <td>-1.347806</td>\n",
              "      <td>-3.569541</td>\n",
              "      <td>-4.599954</td>\n",
              "      <td>-4.511281</td>\n",
              "      <td>-2.476041</td>\n",
              "      <td>-3.040295</td>\n",
              "    </tr>\n",
              "    <tr>\n",
              "      <th>2</th>\n",
              "      <td>-0.018933</td>\n",
              "      <td>0.001791</td>\n",
              "      <td>0.019004</td>\n",
              "      <td>0.025339</td>\n",
              "      <td>0.020487</td>\n",
              "      <td>0.002463</td>\n",
              "      <td>-0.020913</td>\n",
              "      <td>-0.036923</td>\n",
              "      <td>-0.043425</td>\n",
              "      <td>-0.042973</td>\n",
              "      <td>-0.036006</td>\n",
              "      <td>-0.022005</td>\n",
              "      <td>-0.000684</td>\n",
              "      <td>0.017556</td>\n",
              "      <td>0.032879</td>\n",
              "      <td>0.042819</td>\n",
              "      <td>0.039412</td>\n",
              "      <td>0.025710</td>\n",
              "      <td>0.008599</td>\n",
              "      <td>-0.004267</td>\n",
              "      <td>-0.012112</td>\n",
              "      <td>-0.014989</td>\n",
              "      <td>-0.013810</td>\n",
              "      <td>-0.013305</td>\n",
              "      <td>-0.015430</td>\n",
              "      <td>-0.019095</td>\n",
              "      <td>-0.022019</td>\n",
              "      <td>-0.022751</td>\n",
              "      <td>-0.022172</td>\n",
              "      <td>-0.019624</td>\n",
              "      <td>-0.015635</td>\n",
              "      <td>-0.011211</td>\n",
              "      <td>-0.008473</td>\n",
              "      <td>-0.007961</td>\n",
              "      <td>-0.008838</td>\n",
              "      <td>-0.009983</td>\n",
              "      <td>-0.009727</td>\n",
              "      <td>-0.008407</td>\n",
              "      <td>-0.007984</td>\n",
              "      <td>-0.008907</td>\n",
              "      <td>...</td>\n",
              "      <td>0.005042</td>\n",
              "      <td>0.003523</td>\n",
              "      <td>-0.000891</td>\n",
              "      <td>-0.006393</td>\n",
              "      <td>-0.013104</td>\n",
              "      <td>-0.016955</td>\n",
              "      <td>-0.020604</td>\n",
              "      <td>-0.022316</td>\n",
              "      <td>-0.021600</td>\n",
              "      <td>-0.017426</td>\n",
              "      <td>-0.014110</td>\n",
              "      <td>-0.010518</td>\n",
              "      <td>-0.010072</td>\n",
              "      <td>-0.012165</td>\n",
              "      <td>-0.015440</td>\n",
              "      <td>-0.014914</td>\n",
              "      <td>-0.004810</td>\n",
              "      <td>0.014265</td>\n",
              "      <td>0.029857</td>\n",
              "      <td>0.035273</td>\n",
              "      <td>0.034491</td>\n",
              "      <td>0.023465</td>\n",
              "      <td>0.002949</td>\n",
              "      <td>-0.016746</td>\n",
              "      <td>-0.026963</td>\n",
              "      <td>-0.031307</td>\n",
              "      <td>-0.026733</td>\n",
              "      <td>-0.007885</td>\n",
              "      <td>0.012531</td>\n",
              "      <td>0.019509</td>\n",
              "      <td>0.015451</td>\n",
              "      <td>0.002879</td>\n",
              "      <td>-0.011495</td>\n",
              "      <td>-0.018512</td>\n",
              "      <td>-0.018537</td>\n",
              "      <td>-0.017572</td>\n",
              "      <td>-0.016916</td>\n",
              "      <td>-0.017678</td>\n",
              "      <td>-0.021645</td>\n",
              "      <td>0.012454</td>\n",
              "    </tr>\n",
              "  </tbody>\n",
              "</table>\n",
              "<p>3 rows × 4097 columns</p>\n",
              "</div>"
            ],
            "text/plain": [
              "   Unnamed: 0  Unnamed: 1  ...  Unnamed: 4095  Unnamed: 4096\n",
              "0    1.284267   -2.031725  ...       4.403947      -1.045617\n",
              "1    5.537945    5.206952  ...      -2.476041      -3.040295\n",
              "2   -0.018933    0.001791  ...      -0.021645       0.012454\n",
              "\n",
              "[3 rows x 4097 columns]"
            ]
          },
          "metadata": {
            "tags": []
          },
          "execution_count": 13
        }
      ]
    },
    {
      "cell_type": "code",
      "metadata": {
        "colab": {
          "base_uri": "https://localhost:8080/",
          "height": 384
        },
        "id": "KORgCX2Wio0g",
        "outputId": "1ebd9d36-8f79-4496-873b-d8c501f2766a"
      },
      "source": [
        "# Elbow plot\n",
        "\n",
        "plt.figure(figsize=(12,6))\n",
        "plt.plot( clusters_df.num_clusters, clusters_df.cluster_errors, marker = \"o\" )\n",
        "plt.show()"
      ],
      "execution_count": null,
      "outputs": [
        {
          "output_type": "display_data",
          "data": {
            "image/png": "[encoded data removed]",
            "text/plain": [
              "<Figure size 864x432 with 1 Axes>"
            ]
          },
          "metadata": {
            "tags": []
          }
        }
      ]
    },
    {
      "cell_type": "markdown",
      "metadata": {
        "id": "KYMrRaf6x6CY"
      },
      "source": [
        "#Feature importance using XGBoost"
      ]
    },
    {
      "cell_type": "code",
      "metadata": {
        "id": "RBGL5JOX-G46"
      },
      "source": [
        "from xgboost import plot_importance\n",
        "from matplotlib import pyplot"
      ],
      "execution_count": null,
      "outputs": []
    },
    {
      "cell_type": "code",
      "metadata": {
        "id": "GU54V8_d-Kop"
      },
      "source": [
        "# plot feature importance\n",
        "plot_importance(model)\n",
        "pyplot.show()"
      ],
      "execution_count": null,
      "outputs": []
    },
    {
      "cell_type": "markdown",
      "metadata": {
        "id": "T6M23Krjy1Rd"
      },
      "source": [
        "#XGBoost trees diagram"
      ]
    },
    {
      "cell_type": "code",
      "metadata": {
        "id": "Yo35rceG-M6L"
      },
      "source": [
        "# plot_tree in xgboost gives a pictorial representation of the trees made\n",
        "import xgboost as xgb\n",
        "plt.figure(figsize=(20,15))\n",
        "xgb.plot_tree(model,ax=plt.gca());"
      ],
      "execution_count": null,
      "outputs": []
    },
    {
      "cell_type": "code",
      "metadata": {
        "id": "3jVxYI_BSZgq"
      },
      "source": [
        ""
      ],
      "execution_count": null,
      "outputs": []
    },
    {
      "cell_type": "code",
      "metadata": {
        "id": "jdXkZYZXSaw3"
      },
      "source": [
        "clusters = kmeans.clusters_centers_\n",
        "# print out the clusters \n",
        "print(clusters)"
      ],
      "execution_count": null,
      "outputs": []
    },
    {
      "cell_type": "code",
      "metadata": {
        "id": "N0cdu7IXSaY6"
      },
      "source": [
        "y_km= kmeans.fit_predict(points)"
      ],
      "execution_count": null,
      "outputs": []
    },
    {
      "cell_type": "code",
      "metadata": {
        "id": "TRoBx3DXSaRO"
      },
      "source": [
        "y_km"
      ],
      "execution_count": null,
      "outputs": []
    },
    {
      "cell_type": "code",
      "metadata": {
        "id": "hqNTidiGSaOM"
      },
      "source": [
        "plt.scatter(points[y_km == 0,0], points[y_km== 0,1] s =50,color ='red')\n",
        "plt.scatter(points[y_km == 1,0], points[y_km== 1,1] s =50,color ='green')\n",
        "plt.scatter(points[y_km == 2,0], points[y_km== 2,1] s =50,color ='yellow')\n",
        "plt.scatter(points[y_km == 3,0], points[y_km== 3,1] s =50,color ='cyan')\n",
        "plt.scatterplt.show()"
      ],
      "execution_count": null,
      "outputs": []
    },
    {
      "cell_type": "code",
      "metadata": {
        "id": "C8UX8mnASaK2"
      },
      "source": [
        ""
      ],
      "execution_count": null,
      "outputs": []
    }
  ]
}